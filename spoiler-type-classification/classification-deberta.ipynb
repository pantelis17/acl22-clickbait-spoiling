{
 "cells": [
  {
   "cell_type": "code",
   "execution_count": 1,
   "id": "2c5c093b",
   "metadata": {},
   "outputs": [],
   "source": [
    "def load_dataset(file_name):\n",
    "    import pandas as pd\n",
    "    import json\n",
    "    \n",
    "    df = []\n",
    "    with open('/mnt/ceph/storage/data-in-progress/data-research/web-search/ECIR-22/ecir22-clickbait-spoiling/' + file_name) as f:\n",
    "        for i in f:\n",
    "            i = json.loads(i)\n",
    "            tweet = i['postText']\n",
    "            label = i['tags']\n",
    "            \n",
    "            assert len(tweet) == 1\n",
    "            tweet = tweet[0]\n",
    "            \n",
    "            assert len(label) == 1\n",
    "            label = label[0]\n",
    "            \n",
    "            if label not in ['phrase', 'phrases', 'passage', 'multi']:\n",
    "                print(label)\n",
    "                \n",
    "            assert label in ['phrase', 'phrases', 'passage', 'multi']\n",
    "            \n",
    "            if label == 'multi':\n",
    "                continue\n",
    "            \n",
    "            df += [{'text': tweet, 'labels': (label == 'phrase' or label == 'phrases')}]\n",
    "\n",
    "    return pd.DataFrame(df)   \n",
    "            \n",
    "    \n",
    "test_dataset = load_dataset('test.jsonl')\n",
    "train_dataset = load_dataset('train.jsonl')\n",
    "validation_dataset = load_dataset('validation.jsonl')"
   ]
  },
  {
   "cell_type": "code",
   "execution_count": 6,
   "id": "ad0ffab6",
   "metadata": {
    "collapsed": true
   },
   "outputs": [
    {
     "data": {
      "text/html": [
       "<div>\n",
       "<style scoped>\n",
       "    .dataframe tbody tr th:only-of-type {\n",
       "        vertical-align: middle;\n",
       "    }\n",
       "\n",
       "    .dataframe tbody tr th {\n",
       "        vertical-align: top;\n",
       "    }\n",
       "\n",
       "    .dataframe thead th {\n",
       "        text-align: right;\n",
       "    }\n",
       "</style>\n",
       "<table border=\"1\" class=\"dataframe\">\n",
       "  <thead>\n",
       "    <tr style=\"text-align: right;\">\n",
       "      <th></th>\n",
       "      <th>text</th>\n",
       "      <th>labels</th>\n",
       "    </tr>\n",
       "  </thead>\n",
       "  <tbody>\n",
       "    <tr>\n",
       "      <th>0</th>\n",
       "      <td>This simple household item saves lives</td>\n",
       "      <td>True</td>\n",
       "    </tr>\n",
       "    <tr>\n",
       "      <th>1</th>\n",
       "      <td>You'll Never Believe Who Robert Downey Jr.'s '...</td>\n",
       "      <td>True</td>\n",
       "    </tr>\n",
       "    <tr>\n",
       "      <th>2</th>\n",
       "      <td>THE NEWEST THEORY ON HIDDLESWIFT'S ROMANCE IS ...</td>\n",
       "      <td>False</td>\n",
       "    </tr>\n",
       "    <tr>\n",
       "      <th>3</th>\n",
       "      <td>The little girl from \"Titanic\" is all grown up...</td>\n",
       "      <td>True</td>\n",
       "    </tr>\n",
       "    <tr>\n",
       "      <th>4</th>\n",
       "      <td>Why we never really get over that first love</td>\n",
       "      <td>False</td>\n",
       "    </tr>\n",
       "    <tr>\n",
       "      <th>...</th>\n",
       "      <td>...</td>\n",
       "      <td>...</td>\n",
       "    </tr>\n",
       "    <tr>\n",
       "      <th>821</th>\n",
       "      <td>Inside our three-month effort to attend Apple'...</td>\n",
       "      <td>False</td>\n",
       "    </tr>\n",
       "    <tr>\n",
       "      <th>822</th>\n",
       "      <td>Dad And Son Are Seconds From Assassination By ...</td>\n",
       "      <td>False</td>\n",
       "    </tr>\n",
       "    <tr>\n",
       "      <th>823</th>\n",
       "      <td>Kanye West Reveals His Favorite Song... Of All...</td>\n",
       "      <td>False</td>\n",
       "    </tr>\n",
       "    <tr>\n",
       "      <th>824</th>\n",
       "      <td>\"Pippi Longstocking\" star arrested</td>\n",
       "      <td>True</td>\n",
       "    </tr>\n",
       "    <tr>\n",
       "      <th>825</th>\n",
       "      <td>You'll never guess Rob Lowe's weird favorite s...</td>\n",
       "      <td>True</td>\n",
       "    </tr>\n",
       "  </tbody>\n",
       "</table>\n",
       "<p>826 rows × 2 columns</p>\n",
       "</div>"
      ],
      "text/plain": [
       "                                                  text  labels\n",
       "0               This simple household item saves lives    True\n",
       "1    You'll Never Believe Who Robert Downey Jr.'s '...    True\n",
       "2    THE NEWEST THEORY ON HIDDLESWIFT'S ROMANCE IS ...   False\n",
       "3    The little girl from \"Titanic\" is all grown up...    True\n",
       "4         Why we never really get over that first love   False\n",
       "..                                                 ...     ...\n",
       "821  Inside our three-month effort to attend Apple'...   False\n",
       "822  Dad And Son Are Seconds From Assassination By ...   False\n",
       "823  Kanye West Reveals His Favorite Song... Of All...   False\n",
       "824                 \"Pippi Longstocking\" star arrested    True\n",
       "825  You'll never guess Rob Lowe's weird favorite s...    True\n",
       "\n",
       "[826 rows x 2 columns]"
      ]
     },
     "execution_count": 6,
     "metadata": {},
     "output_type": "execute_result"
    }
   ],
   "source": [
    "test_dataset"
   ]
  },
  {
   "cell_type": "code",
   "execution_count": 7,
   "id": "14b857df",
   "metadata": {
    "collapsed": true
   },
   "outputs": [
    {
     "data": {
      "text/html": [
       "<div>\n",
       "<style scoped>\n",
       "    .dataframe tbody tr th:only-of-type {\n",
       "        vertical-align: middle;\n",
       "    }\n",
       "\n",
       "    .dataframe tbody tr th {\n",
       "        vertical-align: top;\n",
       "    }\n",
       "\n",
       "    .dataframe thead th {\n",
       "        text-align: right;\n",
       "    }\n",
       "</style>\n",
       "<table border=\"1\" class=\"dataframe\">\n",
       "  <thead>\n",
       "    <tr style=\"text-align: right;\">\n",
       "      <th></th>\n",
       "      <th>text</th>\n",
       "      <th>labels</th>\n",
       "    </tr>\n",
       "  </thead>\n",
       "  <tbody>\n",
       "    <tr>\n",
       "      <th>0</th>\n",
       "      <td>Wes Welker Wanted Dinner With Tom Brady, But P...</td>\n",
       "      <td>False</td>\n",
       "    </tr>\n",
       "    <tr>\n",
       "      <th>1</th>\n",
       "      <td>NASA sets date for full recovery of ozone hole</td>\n",
       "      <td>True</td>\n",
       "    </tr>\n",
       "    <tr>\n",
       "      <th>2</th>\n",
       "      <td>This is what makes employees happy -- and it's...</td>\n",
       "      <td>True</td>\n",
       "    </tr>\n",
       "    <tr>\n",
       "      <th>3</th>\n",
       "      <td>The perfect way to cook rice so that it's perf...</td>\n",
       "      <td>True</td>\n",
       "    </tr>\n",
       "    <tr>\n",
       "      <th>4</th>\n",
       "      <td>What happens if your new AirPods get lost or s...</td>\n",
       "      <td>False</td>\n",
       "    </tr>\n",
       "    <tr>\n",
       "      <th>...</th>\n",
       "      <td>...</td>\n",
       "      <td>...</td>\n",
       "    </tr>\n",
       "    <tr>\n",
       "      <th>2636</th>\n",
       "      <td>If You See A Purple Butterfly Sticker At The H...</td>\n",
       "      <td>False</td>\n",
       "    </tr>\n",
       "    <tr>\n",
       "      <th>2637</th>\n",
       "      <td>Has Facebook's video explosion completely shak...</td>\n",
       "      <td>False</td>\n",
       "    </tr>\n",
       "    <tr>\n",
       "      <th>2638</th>\n",
       "      <td>Cop Is Eating At A Chili's When Teen Hands Him...</td>\n",
       "      <td>False</td>\n",
       "    </tr>\n",
       "    <tr>\n",
       "      <th>2639</th>\n",
       "      <td>You need to see this Twitter account that pred...</td>\n",
       "      <td>True</td>\n",
       "    </tr>\n",
       "    <tr>\n",
       "      <th>2640</th>\n",
       "      <td>GOP congressman comes out for gay marriage</td>\n",
       "      <td>True</td>\n",
       "    </tr>\n",
       "  </tbody>\n",
       "</table>\n",
       "<p>2641 rows × 2 columns</p>\n",
       "</div>"
      ],
      "text/plain": [
       "                                                   text  labels\n",
       "0     Wes Welker Wanted Dinner With Tom Brady, But P...   False\n",
       "1        NASA sets date for full recovery of ozone hole    True\n",
       "2     This is what makes employees happy -- and it's...    True\n",
       "3     The perfect way to cook rice so that it's perf...    True\n",
       "4     What happens if your new AirPods get lost or s...   False\n",
       "...                                                 ...     ...\n",
       "2636  If You See A Purple Butterfly Sticker At The H...   False\n",
       "2637  Has Facebook's video explosion completely shak...   False\n",
       "2638  Cop Is Eating At A Chili's When Teen Hands Him...   False\n",
       "2639  You need to see this Twitter account that pred...    True\n",
       "2640         GOP congressman comes out for gay marriage    True\n",
       "\n",
       "[2641 rows x 2 columns]"
      ]
     },
     "execution_count": 7,
     "metadata": {},
     "output_type": "execute_result"
    }
   ],
   "source": [
    "train_dataset"
   ]
  },
  {
   "cell_type": "code",
   "execution_count": 8,
   "id": "5dcbb2d1",
   "metadata": {
    "collapsed": true
   },
   "outputs": [
    {
     "data": {
      "text/html": [
       "<div>\n",
       "<style scoped>\n",
       "    .dataframe tbody tr th:only-of-type {\n",
       "        vertical-align: middle;\n",
       "    }\n",
       "\n",
       "    .dataframe tbody tr th {\n",
       "        vertical-align: top;\n",
       "    }\n",
       "\n",
       "    .dataframe thead th {\n",
       "        text-align: right;\n",
       "    }\n",
       "</style>\n",
       "<table border=\"1\" class=\"dataframe\">\n",
       "  <thead>\n",
       "    <tr style=\"text-align: right;\">\n",
       "      <th></th>\n",
       "      <th>text</th>\n",
       "      <th>labels</th>\n",
       "    </tr>\n",
       "  </thead>\n",
       "  <tbody>\n",
       "    <tr>\n",
       "      <th>0</th>\n",
       "      <td>Five Nights at Freddy’s Sequel Delayed for Wei...</td>\n",
       "      <td>False</td>\n",
       "    </tr>\n",
       "    <tr>\n",
       "      <th>1</th>\n",
       "      <td>Here’s how much you should be tipping your hai...</td>\n",
       "      <td>True</td>\n",
       "    </tr>\n",
       "    <tr>\n",
       "      <th>2</th>\n",
       "      <td>A man swallowed a microSD card and you won't b...</td>\n",
       "      <td>False</td>\n",
       "    </tr>\n",
       "    <tr>\n",
       "      <th>3</th>\n",
       "      <td>This popular soda could cure your hangovers sc...</td>\n",
       "      <td>True</td>\n",
       "    </tr>\n",
       "    <tr>\n",
       "      <th>4</th>\n",
       "      <td>The anytime snack you won't feel guilty about ...</td>\n",
       "      <td>True</td>\n",
       "    </tr>\n",
       "    <tr>\n",
       "      <th>...</th>\n",
       "      <td>...</td>\n",
       "      <td>...</td>\n",
       "    </tr>\n",
       "    <tr>\n",
       "      <th>652</th>\n",
       "      <td>Dog Dies One Hour After Hiking With His Owner,...</td>\n",
       "      <td>False</td>\n",
       "    </tr>\n",
       "    <tr>\n",
       "      <th>653</th>\n",
       "      <td>This is what happens when you leave a hotel cl...</td>\n",
       "      <td>False</td>\n",
       "    </tr>\n",
       "    <tr>\n",
       "      <th>654</th>\n",
       "      <td>This Texas GOP elector announces that he won't...</td>\n",
       "      <td>True</td>\n",
       "    </tr>\n",
       "    <tr>\n",
       "      <th>655</th>\n",
       "      <td>WikiLeaks' Julian Assange Reported Dead</td>\n",
       "      <td>False</td>\n",
       "    </tr>\n",
       "    <tr>\n",
       "      <th>656</th>\n",
       "      <td>Original \"Law &amp;amp; Order: SVU\" cast member le...</td>\n",
       "      <td>True</td>\n",
       "    </tr>\n",
       "  </tbody>\n",
       "</table>\n",
       "<p>657 rows × 2 columns</p>\n",
       "</div>"
      ],
      "text/plain": [
       "                                                  text  labels\n",
       "0    Five Nights at Freddy’s Sequel Delayed for Wei...   False\n",
       "1    Here’s how much you should be tipping your hai...    True\n",
       "2    A man swallowed a microSD card and you won't b...   False\n",
       "3    This popular soda could cure your hangovers sc...    True\n",
       "4    The anytime snack you won't feel guilty about ...    True\n",
       "..                                                 ...     ...\n",
       "652  Dog Dies One Hour After Hiking With His Owner,...   False\n",
       "653  This is what happens when you leave a hotel cl...   False\n",
       "654  This Texas GOP elector announces that he won't...    True\n",
       "655            WikiLeaks' Julian Assange Reported Dead   False\n",
       "656  Original \"Law &amp; Order: SVU\" cast member le...    True\n",
       "\n",
       "[657 rows x 2 columns]"
      ]
     },
     "execution_count": 8,
     "metadata": {},
     "output_type": "execute_result"
    }
   ],
   "source": [
    "validation_dataset"
   ]
  },
  {
   "cell_type": "markdown",
   "id": "ffff5120",
   "metadata": {},
   "source": [
    "# Training"
   ]
  },
  {
   "cell_type": "code",
   "execution_count": 3,
   "id": "a63602e6",
   "metadata": {
    "scrolled": true
   },
   "outputs": [],
   "source": [
    "configurations = []\n",
    "\n",
    "for learn_rate in [1e-5, 4e-5, 1e-4]:\n",
    "    for warumup_ratio in [0.02, 0.06, 0.1]:\n",
    "        for batch_size in [8, 16, 32]:\n",
    "            configurations += [{\n",
    "                \"overwrite_output_dir\": True,\n",
    "                \"num_train_epochs\": 10,\n",
    "                \"fp16\": False,\n",
    "                \"train_batch_size\": batch_size,\n",
    "                \"gradient_accumulation_steps\": 4,\n",
    "                \"evaluate_during_training\": True,\n",
    "                \"max_seq_length\": 64,\n",
    "                \"learning_rate\": learn_rate,\n",
    "                \"early_stopping_consider_epochs\": True,\n",
    "                \"early_stopping_delta\": 0.01,\n",
    "                \"early_stopping_metric\": \"acc\",\n",
    "                \"early_stopping_metric_minimize\": False,\n",
    "                \"early_stopping_patience\": 3,\n",
    "                \"evaluate_during_training_steps\": 331,\n",
    "                \"output_dir\": \"outputs/\",\n",
    "                'warmup_ratio': warumup_ratio,\n",
    "                # 'warmup_steps': 0, # usually empfohlen, warmup_ratio ist prozentuales äquivalent \n",
    "                #                    # <> überschreiben sich gegenseitig\n",
    "                'save_steps': 2000,\n",
    "                \"manual_seed\": 12345\n",
    "            }]"
   ]
  },
  {
   "cell_type": "code",
   "execution_count": 7,
   "id": "1668abe4",
   "metadata": {},
   "outputs": [],
   "source": [
    "def train_model(config, num):\n",
    "    from simpletransformers.classification import ClassificationModel\n",
    "    import sklearn\n",
    "    \n",
    "    config[\"output_dir\"] = \"outputs/deberta_\" + str(num)\n",
    "    \n",
    "    model = ClassificationModel(\"deberta\", \"microsoft/deberta-large\", args = config)\n",
    "    # model.train_model(train_dataset)\n",
    "    model.train_model(train_dataset, eval_df=validation_dataset, acc=sklearn.metrics.accuracy_score)"
   ]
  },
  {
   "cell_type": "code",
   "execution_count": null,
   "id": "b6496b73",
   "metadata": {
    "scrolled": true
   },
   "outputs": [
    {
     "name": "stdout",
     "output_type": "stream",
     "text": [
      "Running configuration number 0\n"
     ]
    },
    {
     "name": "stderr",
     "output_type": "stream",
     "text": [
      "Some weights of the model checkpoint at microsoft/deberta-large were not used when initializing DebertaForSequenceClassification: ['lm_predictions.lm_head.LayerNorm.weight', 'lm_predictions.lm_head.dense.weight', 'lm_predictions.lm_head.dense.bias', 'lm_predictions.lm_head.LayerNorm.bias', 'lm_predictions.lm_head.bias', 'config']\n",
      "- This IS expected if you are initializing DebertaForSequenceClassification from the checkpoint of a model trained on another task or with another architecture (e.g. initializing a BertForSequenceClassification model from a BertForPreTraining model).\n",
      "- This IS NOT expected if you are initializing DebertaForSequenceClassification from the checkpoint of a model that you expect to be exactly identical (initializing a BertForSequenceClassification model from a BertForSequenceClassification model).\n",
      "Some weights of DebertaForSequenceClassification were not initialized from the model checkpoint at microsoft/deberta-large and are newly initialized: ['pooler.dense.bias', 'classifier.bias', 'classifier.weight', 'pooler.dense.weight']\n",
      "You should probably TRAIN this model on a down-stream task to be able to use it for predictions and inference.\n"
     ]
    },
    {
     "data": {
      "application/vnd.jupyter.widget-view+json": {
       "model_id": "241b4c8c2e464dbe8366c8344fcea6d3",
       "version_major": 2,
       "version_minor": 0
      },
      "text/plain": [
       "  0%|          | 0/2641 [00:00<?, ?it/s]"
      ]
     },
     "metadata": {},
     "output_type": "display_data"
    },
    {
     "data": {
      "application/vnd.jupyter.widget-view+json": {
       "model_id": "aec1ec2da5ae482eae51d9dacb8ab1cf",
       "version_major": 2,
       "version_minor": 0
      },
      "text/plain": [
       "Epoch:   0%|          | 0/10 [00:00<?, ?it/s]"
      ]
     },
     "metadata": {},
     "output_type": "display_data"
    },
    {
     "data": {
      "application/vnd.jupyter.widget-view+json": {
       "model_id": "500e888acad14e0e91d9b53afd0916aa",
       "version_major": 2,
       "version_minor": 0
      },
      "text/plain": [
       "Running Epoch 0 of 10:   0%|          | 0/331 [00:00<?, ?it/s]"
      ]
     },
     "metadata": {},
     "output_type": "display_data"
    },
    {
     "data": {
      "application/vnd.jupyter.widget-view+json": {
       "model_id": "750acc0e61b049c992eadc9c74cd0b46",
       "version_major": 2,
       "version_minor": 0
      },
      "text/plain": [
       "  0%|          | 0/657 [00:00<?, ?it/s]"
      ]
     },
     "metadata": {},
     "output_type": "display_data"
    },
    {
     "data": {
      "application/vnd.jupyter.widget-view+json": {
       "model_id": "c73ae04bd61f4995bb9d9b08dbda536d",
       "version_major": 2,
       "version_minor": 0
      },
      "text/plain": [
       "Running Epoch 1 of 10:   0%|          | 0/331 [00:00<?, ?it/s]"
      ]
     },
     "metadata": {},
     "output_type": "display_data"
    },
    {
     "data": {
      "application/vnd.jupyter.widget-view+json": {
       "model_id": "a58621ca0bc34f1b9de3baade1dc00e9",
       "version_major": 2,
       "version_minor": 0
      },
      "text/plain": [
       "  0%|          | 0/657 [00:00<?, ?it/s]"
      ]
     },
     "metadata": {},
     "output_type": "display_data"
    },
    {
     "data": {
      "application/vnd.jupyter.widget-view+json": {
       "model_id": "ebb48c9711514e668544f63a0f9fd1e3",
       "version_major": 2,
       "version_minor": 0
      },
      "text/plain": [
       "Running Epoch 2 of 10:   0%|          | 0/331 [00:00<?, ?it/s]"
      ]
     },
     "metadata": {},
     "output_type": "display_data"
    },
    {
     "data": {
      "application/vnd.jupyter.widget-view+json": {
       "model_id": "41f5a5148ffa4fc6892c401b4581bd12",
       "version_major": 2,
       "version_minor": 0
      },
      "text/plain": [
       "  0%|          | 0/657 [00:00<?, ?it/s]"
      ]
     },
     "metadata": {},
     "output_type": "display_data"
    },
    {
     "data": {
      "application/vnd.jupyter.widget-view+json": {
       "model_id": "539cca50db9647e39ca961de7fbb9e60",
       "version_major": 2,
       "version_minor": 0
      },
      "text/plain": [
       "Running Epoch 3 of 10:   0%|          | 0/331 [00:00<?, ?it/s]"
      ]
     },
     "metadata": {},
     "output_type": "display_data"
    }
   ],
   "source": [
    "for config, num in zip(configurations, range(len(configurations))):\n",
    "    print('Running configuration number', num)\n",
    "    \n",
    "    train_model(config, num)"
   ]
  },
  {
   "cell_type": "code",
   "execution_count": 4,
   "id": "a51bc614",
   "metadata": {
    "collapsed": true
   },
   "outputs": [
    {
     "data": {
      "application/vnd.jupyter.widget-view+json": {
       "model_id": "85d1a142fb8f44ccbded7e46ce1a82d5",
       "version_major": 2,
       "version_minor": 0
      },
      "text/plain": [
       "Downloading:   0%|          | 0.00/475 [00:00<?, ?B/s]"
      ]
     },
     "metadata": {},
     "output_type": "display_data"
    },
    {
     "data": {
      "application/vnd.jupyter.widget-view+json": {
       "model_id": "14c8dccbc8994e5cbeafab6c1a221f28",
       "version_major": 2,
       "version_minor": 0
      },
      "text/plain": [
       "Downloading:   0%|          | 0.00/1.63G [00:00<?, ?B/s]"
      ]
     },
     "metadata": {},
     "output_type": "display_data"
    },
    {
     "name": "stderr",
     "output_type": "stream",
     "text": [
      "Some weights of the model checkpoint at microsoft/deberta-large were not used when initializing DebertaForSequenceClassification: ['lm_predictions.lm_head.LayerNorm.weight', 'lm_predictions.lm_head.dense.weight', 'lm_predictions.lm_head.dense.bias', 'lm_predictions.lm_head.LayerNorm.bias', 'lm_predictions.lm_head.bias', 'config']\n",
      "- This IS expected if you are initializing DebertaForSequenceClassification from the checkpoint of a model trained on another task or with another architecture (e.g. initializing a BertForSequenceClassification model from a BertForPreTraining model).\n",
      "- This IS NOT expected if you are initializing DebertaForSequenceClassification from the checkpoint of a model that you expect to be exactly identical (initializing a BertForSequenceClassification model from a BertForSequenceClassification model).\n",
      "Some weights of DebertaForSequenceClassification were not initialized from the model checkpoint at microsoft/deberta-large and are newly initialized: ['pooler.dense.bias', 'classifier.bias', 'classifier.weight', 'pooler.dense.weight']\n",
      "You should probably TRAIN this model on a down-stream task to be able to use it for predictions and inference.\n"
     ]
    },
    {
     "data": {
      "application/vnd.jupyter.widget-view+json": {
       "model_id": "bdead19fecb8498782e1da4d7d43dc42",
       "version_major": 2,
       "version_minor": 0
      },
      "text/plain": [
       "Downloading:   0%|          | 0.00/899k [00:00<?, ?B/s]"
      ]
     },
     "metadata": {},
     "output_type": "display_data"
    },
    {
     "data": {
      "application/vnd.jupyter.widget-view+json": {
       "model_id": "0cf63bff7f3047de98720cde261050a3",
       "version_major": 2,
       "version_minor": 0
      },
      "text/plain": [
       "Downloading:   0%|          | 0.00/456k [00:00<?, ?B/s]"
      ]
     },
     "metadata": {},
     "output_type": "display_data"
    },
    {
     "data": {
      "application/vnd.jupyter.widget-view+json": {
       "model_id": "586602592eb844c58cfeef9757f2af30",
       "version_major": 2,
       "version_minor": 0
      },
      "text/plain": [
       "Downloading:   0%|          | 0.00/52.0 [00:00<?, ?B/s]"
      ]
     },
     "metadata": {},
     "output_type": "display_data"
    },
    {
     "data": {
      "application/vnd.jupyter.widget-view+json": {
       "model_id": "850ae2e62c00443e931b5a6103307671",
       "version_major": 2,
       "version_minor": 0
      },
      "text/plain": [
       "  0%|          | 0/2641 [00:00<?, ?it/s]"
      ]
     },
     "metadata": {},
     "output_type": "display_data"
    },
    {
     "data": {
      "application/vnd.jupyter.widget-view+json": {
       "model_id": "fff2cbd36f1e4415b71cb5f021a658da",
       "version_major": 2,
       "version_minor": 0
      },
      "text/plain": [
       "Epoch:   0%|          | 0/5 [00:00<?, ?it/s]"
      ]
     },
     "metadata": {},
     "output_type": "display_data"
    },
    {
     "data": {
      "application/vnd.jupyter.widget-view+json": {
       "model_id": "49c18d34c5f242b1bbba139443b6fc0f",
       "version_major": 2,
       "version_minor": 0
      },
      "text/plain": [
       "Running Epoch 0 of 5:   0%|          | 0/331 [00:00<?, ?it/s]"
      ]
     },
     "metadata": {},
     "output_type": "display_data"
    },
    {
     "data": {
      "application/vnd.jupyter.widget-view+json": {
       "model_id": "5e6ad6a26bd24909abe18eac3cc57806",
       "version_major": 2,
       "version_minor": 0
      },
      "text/plain": [
       "  0%|          | 0/657 [00:00<?, ?it/s]"
      ]
     },
     "metadata": {},
     "output_type": "display_data"
    },
    {
     "data": {
      "application/vnd.jupyter.widget-view+json": {
       "model_id": "2ce91f593a4d4f7da6649eef44c89149",
       "version_major": 2,
       "version_minor": 0
      },
      "text/plain": [
       "Running Epoch 1 of 5:   0%|          | 0/331 [00:00<?, ?it/s]"
      ]
     },
     "metadata": {},
     "output_type": "display_data"
    },
    {
     "data": {
      "application/vnd.jupyter.widget-view+json": {
       "model_id": "b2d7f50081cf4e1d8b5492ece11eddd4",
       "version_major": 2,
       "version_minor": 0
      },
      "text/plain": [
       "  0%|          | 0/657 [00:00<?, ?it/s]"
      ]
     },
     "metadata": {},
     "output_type": "display_data"
    },
    {
     "data": {
      "application/vnd.jupyter.widget-view+json": {
       "model_id": "baa044bdc8674843b49172e29cd1663c",
       "version_major": 2,
       "version_minor": 0
      },
      "text/plain": [
       "Running Epoch 2 of 5:   0%|          | 0/331 [00:00<?, ?it/s]"
      ]
     },
     "metadata": {},
     "output_type": "display_data"
    },
    {
     "data": {
      "application/vnd.jupyter.widget-view+json": {
       "model_id": "f04f9c653b0c46f9add6680257ecc0d9",
       "version_major": 2,
       "version_minor": 0
      },
      "text/plain": [
       "  0%|          | 0/657 [00:00<?, ?it/s]"
      ]
     },
     "metadata": {},
     "output_type": "display_data"
    },
    {
     "data": {
      "application/vnd.jupyter.widget-view+json": {
       "model_id": "4fd0c812f8ed4281b3b14349aad35e62",
       "version_major": 2,
       "version_minor": 0
      },
      "text/plain": [
       "Running Epoch 3 of 5:   0%|          | 0/331 [00:00<?, ?it/s]"
      ]
     },
     "metadata": {},
     "output_type": "display_data"
    },
    {
     "data": {
      "application/vnd.jupyter.widget-view+json": {
       "model_id": "4244cfeabcd1411a8d12a4729eee8090",
       "version_major": 2,
       "version_minor": 0
      },
      "text/plain": [
       "  0%|          | 0/657 [00:00<?, ?it/s]"
      ]
     },
     "metadata": {},
     "output_type": "display_data"
    },
    {
     "data": {
      "application/vnd.jupyter.widget-view+json": {
       "model_id": "647d2e2ce7c049fda6305a83e54b7dc9",
       "version_major": 2,
       "version_minor": 0
      },
      "text/plain": [
       "Running Epoch 4 of 5:   0%|          | 0/331 [00:00<?, ?it/s]"
      ]
     },
     "metadata": {},
     "output_type": "display_data"
    },
    {
     "data": {
      "application/vnd.jupyter.widget-view+json": {
       "model_id": "d749844bb9e54dc896c9138219006d0d",
       "version_major": 2,
       "version_minor": 0
      },
      "text/plain": [
       "  0%|          | 0/657 [00:00<?, ?it/s]"
      ]
     },
     "metadata": {},
     "output_type": "display_data"
    },
    {
     "data": {
      "application/vnd.jupyter.widget-view+json": {
       "model_id": "4583c311df1b4de48c02273f3b1e50f3",
       "version_major": 2,
       "version_minor": 0
      },
      "text/plain": [
       "  0%|          | 0/657 [00:00<?, ?it/s]"
      ]
     },
     "metadata": {},
     "output_type": "display_data"
    },
    {
     "data": {
      "text/plain": [
       "(410,\n",
       " defaultdict(list,\n",
       "             {'global_step': [82, 164, 246, 328, 331, 410],\n",
       "              'train_loss': [0.07401979714632034,\n",
       "               0.1318412572145462,\n",
       "               0.010398376733064651,\n",
       "               0.005076257977634668,\n",
       "               0.015512799844145775,\n",
       "               0.33082717657089233],\n",
       "              'mcc': [0.5271660583389545,\n",
       "               0.5810383897390848,\n",
       "               0.5250945882122984,\n",
       "               0.5779053664598808,\n",
       "               0.5462046824907045,\n",
       "               0.5452048210015293],\n",
       "              'tp': [236, 231, 265, 257, 265, 277],\n",
       "              'tn': [264, 284, 236, 261, 243, 230],\n",
       "              'fp': [58, 38, 86, 61, 79, 92],\n",
       "              'fn': [99, 104, 70, 78, 70, 58],\n",
       "              'auroc': [0.8347733382775564,\n",
       "               0.8461388708630759,\n",
       "               0.8368313710948365,\n",
       "               0.8465931213497728,\n",
       "               0.8429313062019097,\n",
       "               0.8374524891072588],\n",
       "              'auprc': [0.8562279644365282,\n",
       "               0.8745725645087472,\n",
       "               0.853192351128947,\n",
       "               0.8626719213197047,\n",
       "               0.8578839735100765,\n",
       "               0.8520935667794739],\n",
       "              'acc': [0.76103500761035,\n",
       "               0.7838660578386606,\n",
       "               0.7625570776255708,\n",
       "               0.7884322678843226,\n",
       "               0.7732115677321156,\n",
       "               0.771689497716895],\n",
       "              'eval_loss': [0.49146637966833917,\n",
       "               0.46476443964673814,\n",
       "               0.6516406525779201,\n",
       "               0.7820245344556465,\n",
       "               0.8042679637872491,\n",
       "               1.0617974810744075]}))"
      ]
     },
     "execution_count": 4,
     "metadata": {},
     "output_type": "execute_result"
    }
   ],
   "source": [
    "from simpletransformers.classification import ClassificationModel\n",
    "import sklearn\n",
    "model = ClassificationModel(\"deberta\", \"microsoft/deberta-large\", args = {\n",
    "                \"output_dir\": \"outputs/test\",\n",
    "                \"overwrite_output_dir\": True,\n",
    "                \"num_train_epochs\": 5,\n",
    "                \"fp16\": False,\n",
    "                \"train_batch_size\": 8,\n",
    "                \"gradient_accumulation_steps\": 4,\n",
    "                \"evaluate_during_training\": True,\n",
    "                \"max_seq_length\": 64,\n",
    "                \"learning_rate\": 4e-5,\n",
    "                \"early_stopping_consider_epochs\": True,\n",
    "                \"early_stopping_delta\": 0.01,\n",
    "                \"early_stopping_metric\": \"acc\",\n",
    "                \"early_stopping_metric_minimize\": False,\n",
    "                \"early_stopping_patience\": 3,\n",
    "                \"evaluate_during_training_steps\": 331,\n",
    "                \"output_dir\": \"outputs/\",\n",
    "                'warmup_ratio': 0.06,\n",
    "                # 'warmup_steps': 0, # usually empfohlen, warmup_ratio ist prozentuales äquivalent \n",
    "                #                    # <> überschreiben sich gegenseitig\n",
    "                'save_steps': 331,\n",
    "                \"manual_seed\": 12345\n",
    "            })\n",
    "# model.train_model(train_dataset)\n",
    "model.train_model(train_dataset, eval_df=validation_dataset, acc=sklearn.metrics.accuracy_score)"
   ]
  },
  {
   "cell_type": "code",
   "execution_count": 38,
   "id": "15b5681a",
   "metadata": {
    "collapsed": true
   },
   "outputs": [
    {
     "data": {
      "application/vnd.jupyter.widget-view+json": {
       "model_id": "cc9a4825e66847f6a07c5367b22839be",
       "version_major": 2,
       "version_minor": 0
      },
      "text/plain": [
       "  0%|          | 0/657 [00:00<?, ?it/s]"
      ]
     },
     "metadata": {},
     "output_type": "display_data"
    },
    {
     "data": {
      "application/vnd.jupyter.widget-view+json": {
       "model_id": "1ca89766b25041b8a189026ce6b7a5d0",
       "version_major": 2,
       "version_minor": 0
      },
      "text/plain": [
       "Running Evaluation:   0%|          | 0/83 [00:00<?, ?it/s]"
      ]
     },
     "metadata": {},
     "output_type": "display_data"
    },
    {
     "data": {
      "text/plain": [
       "({'mcc': 0.5189907816932701,\n",
       "  'tp': 264,\n",
       "  'tn': 235,\n",
       "  'fp': 87,\n",
       "  'fn': 71,\n",
       "  'auroc': 0.8332344488736442,\n",
       "  'auprc': 0.8547997162455769,\n",
       "  'acc': 0.7595129375951294,\n",
       "  'eval_loss': 1.5449147986592473},\n",
       " array([[-4.50758696,  4.8231678 ],\n",
       "        [-4.62452698,  4.63890123],\n",
       "        [ 4.56198597, -4.33566332],\n",
       "        ...,\n",
       "        [ 0.98726308, -0.87757879],\n",
       "        [ 3.27670145, -3.22399449],\n",
       "        [-4.55029869,  4.87138462]]),\n",
       " [['Five Nights at Freddy’s Sequel Delayed for Weird Reason',\n",
       "   'Here’s how much you should be tipping your hairdresser',\n",
       "   \"A man swallowed a microSD card and you won't believe what happened next!\",\n",
       "   'This popular soda could cure your hangovers scientists say:',\n",
       "   \"The anytime snack you won't feel guilty about eating\",\n",
       "   'You won\\'t believe this stunning \"Harry Potter\" revelation about Professor McGonagall',\n",
       "   \"J.J. Abrams has an answer on if there will be a post-credits scene in the new 'Star Wars'\",\n",
       "   'Kristin Cavallari (@KristinCav) opens up about just how fake \"The Hills\" was',\n",
       "   'Guess who Obama just dined with in Vietnam',\n",
       "   'How This 20-Year-Old Died From Kissing Her Boyfriend',\n",
       "   'What are mosquito-control workers spraying in Miami?',\n",
       "   'Do birds fart?',\n",
       "   'Angry ex-boyfriend bursts into delivery room, assumes fighting stance and does the most...',\n",
       "   'Local Cops Make SHOCKING Move Against Boy Selling Teddy Bear To Buy Food',\n",
       "   'Parents Discover A Secret Hidden In Adoptive Daughter’s Family Tree',\n",
       "   \"The one morning work mistake you can't recover from\",\n",
       "   'Is It Safe To Take Melatonin Pills To Help You Fall Asleep?',\n",
       "   'Why there will probably never be a \"Dawson\\'s Creek\" reunion',\n",
       "   'Mom Is Pregnant With Twins. But 25 Weeks Later, Doctors Drop THIS Bombshell About Her Babies',\n",
       "   'Apple iOS 9.3.2 Has A Nasty Surprise',\n",
       "   'State rep who likened food stamp recipients to wild animals loses Senate primary',\n",
       "   'How distance brought an end to an NBA power couple that withstood conflicts of interest and professional trials:',\n",
       "   'A Tourist Ignored a Museum\\'s \"Please Don\\'t Touch\" Sign, Guess What Happened Next',\n",
       "   \"Taco Bell's Newest Menu Item Has One Ridiculous Ingredient That Will Leave You Questioning Everything\",\n",
       "   \"Rebekah Brooks is back with Rupert Murdoch, and this time it's digital\",\n",
       "   \"Your favorite children's book illustrator just got his own exhibition in Chicago\",\n",
       "   'Fashion brand lets models go un-Photoshopped and makeup-free',\n",
       "   \"Jennifer Lawrence cuts off her long hair... and debuts Hollywood's biggest trend\",\n",
       "   'Lawmakers could do this to fight corruption. But they won’t.',\n",
       "   'He Rescued This Bizarre Creature From a Sidewalk, But He Had No Idea What It Would Grow Into',\n",
       "   'Man admires the fence he repaired – now watch what happens just seconds later',\n",
       "   'WHOA someone just paid $168000 for THIS',\n",
       "   'I was really bad at sports in high school. This new study helps me understand why.',\n",
       "   \"Say it ain't so! Jon Stewart has set his official departure date from #TheDailyShow\",\n",
       "   \"How big is Justin Bieber's dick really?\",\n",
       "   'One word that should never follow \"I love you\"',\n",
       "   \"If you've ever dreamed of getting up close and personal with a rocket launch, YOUR TIME IS NOW\",\n",
       "   'For The First Time In Its 126-Year History, This Newspaper Endorsed A Democrat',\n",
       "   'Cancer is contagious among clams. What about us?',\n",
       "   '1/3 of Americans believe this about the Syria conflict',\n",
       "   'The horrible incident that cut my honeymoon short',\n",
       "   'This Drug Could Add Five Years To Your Dog’s Life',\n",
       "   'ANOTHER Catholic university drops abortion coverage',\n",
       "   'College president to students: \"This is not a day care. This is a university!\"',\n",
       "   'How men can get the bedroom blues too',\n",
       "   'She might be the only author to benefit from the Amazon-Hachette war thanks to Stephen Colbert',\n",
       "   'This NFL Player Slept in a Utility Closet in College to Save Money',\n",
       "   'Psychedelic drugs are not cocaine — here’s why that matters',\n",
       "   'What weighs 2032 pounds is orange and can be seen in New York this week?',\n",
       "   \"You won't BELIEVE how much Paris Hilton dropped on two teeny-tiny dogs!\",\n",
       "   'This Guy Put An Ice Cream Cone In His Pocket... Seconds Later, He Was In Handcuffs.',\n",
       "   'Lawmakers are going to punish university for not shutting down \"Sex Week\"',\n",
       "   'One of the most ‘annoying things’ on the entire planet just turned 20',\n",
       "   'Explainer: Is There Any Science Behind Astrology?',\n",
       "   'This Is the First Thing Guys Notice About Women',\n",
       "   'The latest Hollywood baby name: Kaius',\n",
       "   \"An unlikely company is crushing America's biggest clothing stores\",\n",
       "   'When People Ate People, A Strange Disease Emerged',\n",
       "   'Prevent Your Kids From Playing Near This Dangerous Common Plant That Can Kill Them',\n",
       "   'Are lefties really more creative?',\n",
       "   'You Won\\'t Believe What \"Unknown Substance\" Sent 7 Planned Parenthood Staffers to the Hospital',\n",
       "   \"You'll Never Guess What (Or Who) Michael Douglass' Son Cameron Has Tattooed On His Abs\",\n",
       "   'The cancer-causing ingredient lurking in your beauty products:',\n",
       "   'The surprising thing that may be making you crave junk food',\n",
       "   'This state is NOT excited about legal weed',\n",
       "   'This company wants you to bring your dog to work',\n",
       "   \"Here's Why Some Big Brand Names Are Suddenly Missing A's, B's And O's\",\n",
       "   'If Donald Trump were black, would the GOP base accept him? The answer is obvious.',\n",
       "   'This is how much coffee Americans drinks every day',\n",
       "   \"Are Red Hot Chili Peppers Really 'The Worst Band In The Universe'?\",\n",
       "   'Obama’s Female Staffers Came Up With a Genius Strategy to Make Sure Their Voices Were Heard',\n",
       "   'How Beats tricks you Into thinking it makes a premium product',\n",
       "   'This Clever Trick Will Instantly Clear Your Lawn of Unwanted Leaves',\n",
       "   'This might be the darkest theory yet about why Donald Trump keeps winning',\n",
       "   \"Verizon and AT&amp;T Don't Like This Internet Ruling, But Your Pocketbook Will\",\n",
       "   \"'Star Wars: Episode 8' Working Titled Leaked\",\n",
       "   \"We've finally figured out when the moon formed\",\n",
       "   'Another country decriminalizes marijuana',\n",
       "   'You Should STOP Eating Baby Carrots for THIS Disturbing Reason!',\n",
       "   \"The iPhone 5C number Apple doesn't want you to know\",\n",
       "   'I Thought It Was Weird She Glued Pennies To Her Daughter’s Shoes, But When I Found Out Why? GENIUS!',\n",
       "   'GOP governor pressured to reveal secret donors',\n",
       "   \"President Obama won't end his vacation for one specific reason\",\n",
       "   'The last utopia?',\n",
       "   'Well this is one way to get flawless skin',\n",
       "   \"Wow! This Company Pays For Employees' Weddings And Their Kids' College\",\n",
       "   'Just a slight flaw with this argument...',\n",
       "   \"What's lurking in your white wine WILL scare you\",\n",
       "   \"How much will JPMorgan pay for 'London Whale' losses?\",\n",
       "   \"Here's what Donald Trump rejects when he undermines the election results\",\n",
       "   '1-Minute Trick To Stop Headaches From Disturbing You On Busy Days',\n",
       "   'Chris Brown has big plans for 2014',\n",
       "   \"Trouble in paradise? Rose Leslie doesn't want to work with Game Of Thrones beau Kit Harington again\",\n",
       "   'This Ridiculously Simple Service Is Saving Canadian Drivers A Ton of Money',\n",
       "   'You favorite television show just got better',\n",
       "   'This Genius Pokémon Go Theory May Have Just Revealed Where You Can Find Mew',\n",
       "   'Whoa eccentric basketball player is selling his very bizarre home',\n",
       "   \"#NeverTrump Loses Another One - I'm Shocked And Trump's Cheering!\",\n",
       "   'This Republican mayor has an incredibly simple idea to help the homeless. And it seems to be working.',\n",
       "   'This trailer will take your breath away',\n",
       "   'She Wraps A Piece Of Bread Around Her Foot. When She Takes It Off? SHOCKING!',\n",
       "   'Traffic-weary homeowners and Waze are at war, again. Guess who’s winning?',\n",
       "   '7 of the 10 Drunkest Cities in America Are All in a Single State',\n",
       "   \"Costco &amp; Sam's Club Recall Ham For The Most Disgusting Reason\",\n",
       "   \"The Moon Hasn't Done This In Nearly Half A Century\",\n",
       "   'Sacha Baron Cohen and his wife donate $1 million to Syrian refugees',\n",
       "   'Does Sparkling Water Have a Downside?',\n",
       "   'How much money did Paris Hilton make off her sex tape?',\n",
       "   \"Huge 'Jason Bourne' chase scene wrecked this many cars\",\n",
       "   'How this 27-year-old made $1 million last year:',\n",
       "   \"This is what it actually means to be caught 'Doping' at the Olympics\",\n",
       "   \"The Ridiculously Simple Trick That'll Keep Your Food From Spoiling\",\n",
       "   'The best city for newlyweds is...',\n",
       "   \"Kanpur Couple Called Off Their Wedding Because Of PM Narendra Modi. You'll Be Surprised To Know Why.\",\n",
       "   \"Startling link between kidnapped teen's mom and suspect\",\n",
       "   'The most unexpected country that rocks at making olive oil',\n",
       "   'What does Brexit mean for UK Citizens who already booked Summer Holiday abroad?',\n",
       "   \"The ISIS Says It's Scared Of Only One Country And It's Not America Or Russia\",\n",
       "   'Oscar favorite latest name rumored for \"Star Wars\"',\n",
       "   \"The cutest little European city you've probably never heard of\",\n",
       "   'You Won’t Believe What Emma Roberts Has Done Now',\n",
       "   'Why 2017 is the year to visit Kathmandu',\n",
       "   \"You've never heard the f-word this much in your entire life\",\n",
       "   'This Puppy Just Howled For The First Time! Watch What His Proud Mom Does In Response!',\n",
       "   'Legal weed sales halted in small town due to lack of staples',\n",
       "   'Here’s when the first 64 player multiplayer Battlefield 1 livestream is coming',\n",
       "   '@LadyGaga and @RKelly team up',\n",
       "   'President Trump? There’s only one way to stop it happening',\n",
       "   'Just guess how much Mayweather spends on haircuts',\n",
       "   'The Secret Reason Apple Might Be Killing the iPhone headphone jack',\n",
       "   \"Guess Who Amber Rose Wants to Be Her Next Baby's Father\",\n",
       "   \"Who knew @NickiMinaj's natural hair looked like this?\",\n",
       "   'Here’s what happens when schools let transgender students use the bathroom they want',\n",
       "   'Adele\\'s \"Hello\" video smashes YouTube record',\n",
       "   '@HillaryClinton gets the advice she never asked for',\n",
       "   'How One Theory You Never Heard of Explains Everything Donald Trump Does',\n",
       "   'BREAKING: This State Just Banned the Sale of ALL Semi-Auto Rifles, Effective Immediately',\n",
       "   'One of the most useful iOS apps is finally back',\n",
       "   'UFC Fighter Valentina Shevchenko Involved In Armed Robbery Shootout',\n",
       "   \"And the world's safest country in terms of homicides is...\",\n",
       "   'Customer reports cook with Down syndrome but was shocked when they discovered who he was',\n",
       "   \"We can't believe these are all under $100\",\n",
       "   'Is There Really A 2 Billion-Year-Old Nuclear Reactor In Africa?',\n",
       "   'How technology will bring loved ones back to life',\n",
       "   'Breast cancer rates are on the rise among these women',\n",
       "   'We found out what happens after you catch every Pokémon',\n",
       "   'This is what happens when the government tries to grow weed. (Hint: It ain’t good.)',\n",
       "   'The one thing you should never say to someone w/ OCD',\n",
       "   'The first photos from the reboot are here.',\n",
       "   'This is how most college students actually use Tinder',\n",
       "   'Apparently All Taylor Swift and Tom Hiddleston Do Is...',\n",
       "   'The four-letter word NO woman wants to hear',\n",
       "   'What Julia Roberts thinks of Jennifer Lawrence',\n",
       "   'NASA just announced something big',\n",
       "   \"Why cars went from boxy in the '80s to curvy in the '90s\",\n",
       "   \"This 'sad' advice a male VC just gave to women in tech couldn't be more wrong\",\n",
       "   'Scientists say this behavior can make men more attractive to women',\n",
       "   'Is It Ethical to Kill Poachers?',\n",
       "   \"You won't believe what Samir Nasri has done to support Man City ahead of the League Cup final\",\n",
       "   \"Vincent Kompany makes OUTRAGEOUS Eden Hazard claim following Belgium's win over Hungary\",\n",
       "   'How AI could stop those awkward moments when your credit card is mistakenly declined',\n",
       "   \"Here's Why We Wake Up With Gross Eye Gunk in the Morning\",\n",
       "   'A Bully Pours Super Glue In Her Hair, But What She Does Next Shocks Them All...',\n",
       "   'Why Women Are No Longer Catching Up To Men On Pay',\n",
       "   'She Pours Listerine Onto Cotton And Dabs It On Her Armpit. Minutes Later? WHOA...',\n",
       "   \"@AnnCoulter won't stop ranting about this\",\n",
       "   'Why a South Carolina man got bail after he shot, buried and ‘slow-cooked’ two people',\n",
       "   'Why has this photo gone viral online?',\n",
       "   'People Don’t Think Biting The Skin Around Their Nails Is Bad... Until They Learn The Horrible Truth.',\n",
       "   \"Is THIS the world's deadliest toxin?\",\n",
       "   'Former RHOBH star Adrienne Maloof 52 explains her 24-year-old BF',\n",
       "   \"FUNBAG! What's better summer sex or winter sex?\",\n",
       "   'Top conservative challenges GOP to \"declare peace on the safety net\"',\n",
       "   'What happened when a professor built a chatbot to be his teaching assistant',\n",
       "   'Watch as a romantic waterfall wedding proposal goes horribly wrong',\n",
       "   'Ever Wondered What These White Lines On iPhones Mean?',\n",
       "   \"Do you need a gym nanny to make you exercise (and we don't mean a trainer)?:\",\n",
       "   'Guess what Mark Zuckerberg wore on the new Vanity Fair cover',\n",
       "   'Filming The Newest Game Of Thrones Was Way More Brutal Than It Looked',\n",
       "   'BBC Micro Bit computer becomes a commercial product',\n",
       "   \"New Battle Brews Over Bundy's Cattle In The Nevada Desert\",\n",
       "   'This company wants to solve all your scanning and filing problems',\n",
       "   '200-foot sinkhole swallows 12 buildings',\n",
       "   \"Antibiotics will soon 'stop working'\",\n",
       "   'There was one very important thing missing from the Marco Rubio pancake breakfast:',\n",
       "   'You’ll never believe how much Kim Kardashian’s morning skincare routine costs',\n",
       "   'Who’s The Biggest Khan In Bollywood? He Is',\n",
       "   \"Is there a better way to observe Veteran's Day?\",\n",
       "   \"When's the best time to share on Facebook?\",\n",
       "   \"Here Is the World's Ugliest Color (& It Has an Important Job) — Design News\",\n",
       "   'Kelsey Grammer reveals the secret origin of Sideshow Bob’s voice',\n",
       "   'Does Sean Bean Really Die More Than Other Actors?',\n",
       "   'God hates gays...who own chandeliers? This company seems to think so',\n",
       "   'How to Enjoy the World’s Most Luxurious Hotels, Without Paying to Spend the Night',\n",
       "   \"The one place this Google executive won't take her phone\",\n",
       "   'North America is so cold right now this happened',\n",
       "   'Is this a duck or a rabbit?',\n",
       "   'Michael Bennett reveals who he thinks the best player to play for Texas A&amp;M',\n",
       "   \"Is John Krasinski Down for Bringing 'The Office' to the Big Screen?\",\n",
       "   '\"To look up out at this kind of creation and not believe in God is to me impossible.\"',\n",
       "   'This is how much a gold medal from #Rio2016 is really worth:',\n",
       "   'Chewbacca Mom Shares REAL Reason Her Video Blew Up The Internet',\n",
       "   'People with this personality type may be happier and more successful',\n",
       "   'This GOP lawmaker does NOT approve of students wearing pro-gay shirts',\n",
       "   \"This Trend Is Perfect For People Who Can't Paint Their Own Nails\",\n",
       "   \"Alarming find in kids' blood forces Michigan city to declare state of emergency\",\n",
       "   'Find out the reason why Manny Pacquiao decided to unretire from boxing',\n",
       "   'This is the best time to drink coffee',\n",
       "   'Is North Korea Behind Bank Heists?',\n",
       "   'He carried the flag the entire race.',\n",
       "   'DMX arrested again',\n",
       "   \"#Pratyusha's former boyfriend #RahulRaj thinks this is a publicity stunt\",\n",
       "   \"Why it's definitely worth it to get your flu shot\",\n",
       "   'Author Says This Behavior Predicts Infidelity In A Relationship From Day One',\n",
       "   'BAD NEWS for workaholics',\n",
       "   'Overwatch Has a Secret Character And She’s Going To Be Revealed Soon',\n",
       "   'And the US state with the largest average penis size is...',\n",
       "   \"Hollywood didn't want to make this Vin Diesel movie\",\n",
       "   'A bit of debris chipped the International Space Station. That’s just one piece of a much bigger problem',\n",
       "   \"Tim Tebow may not be the best quarterback on the Eagles' roster, but he has something that might help him succeed.\",\n",
       "   '@iamdiddy lost HOW MUCH to Rick Ross playing Craps?!',\n",
       "   'Man Purchases Harley-Davidson Motercycle. His reason is unbelievable!...',\n",
       "   'Target in PANIC after getting terrible news',\n",
       "   \"Nerd Wins Scrabble with word you've never heard of\",\n",
       "   \"You won't believe how much money 'Chewbacca Mom' has made since video went viral\",\n",
       "   'Bernie Sanders Makes MAJOR Announcement To His Entire Staff And Followers (QUOTES)',\n",
       "   \"You'll never guess what's for sale on eBay right now\",\n",
       "   'Guess which famous Andy Warhol painting could fetch $60 million this fall',\n",
       "   'You Should NEVER Line The Toilet Seat With Paper. The Reason? SHOCKING!',\n",
       "   'Man Uses Lions At Zoo To Commit Suicide, But All Goes Horribly Wrong',\n",
       "   'Here’s the secret way people are using Snapchat Spectacles. \\n(Hint: sex)',\n",
       "   \"Rihanna's new Star Trek Beyond music video will make history tomorrow\",\n",
       "   'A Very Special Baby Was Just Born In Indonesia, And People Still Can’t Believe He’s Real.',\n",
       "   'Yes, Donald Trump Won Latinos Over Marco Rubio and Ted Cruz. Here’s Why.',\n",
       "   'Pulitzer Prize makes major change',\n",
       "   'And the candidate who spoke the most at the #GOPDebate is ...',\n",
       "   'Scientists Now Know What Really Wiped Out Dinosaurs',\n",
       "   'She’s Over-Weight And Wants To Gain More Weight, Then Mom Does This! Shocking!!',\n",
       "   'You Won’t Believe What 11-Time Olympic Medalist Ryan Lochte Eats for Dinner Every Friday',\n",
       "   'Where \"Kanye West\" is more popular than \"Jesus Christ\"',\n",
       "   \"So, don't be a cheat. Because, Science\",\n",
       "   'This is the most common birthday in the world',\n",
       "   'Big praise from the boss: The Arsenal icon Granit reminds me of',\n",
       "   'She Glues Rope On An Old Tire Her Next Step Turns It Into Something I Want To Have In My House!',\n",
       "   \"What Mark Stoops said after Kentucky's loss to Southern Mississippi\",\n",
       "   \"Here's how Jason Statham has managed to stay ripped all these years\",\n",
       "   'What A Man Did With His Useless Attic Is Unbelievable',\n",
       "   'What Juan Gabriel Said When Asked If He Was Gay Will Blow You Away',\n",
       "   'This Woman Reacted to Her New Racist Workplace Dress Code in the Best Possible Way',\n",
       "   \"This bot has saved users $250 million, and it's coming to Facebook messenger\",\n",
       "   'Teacher Reveals The Sexts And Love Notes That Led To Affair With Pupil',\n",
       "   'He Pokes His Phone With A Knife. What Happens Next Made Me Jump Out Of My Seat',\n",
       "   \"It's Official: We're Going to Mars\",\n",
       "   \"29 Years Ago, Lynyrd Skynyrd Inspired THIS Band's Biggest Hit - You Won't Believe Who It Is!\",\n",
       "   \"BREAKING: WikiLeaks Founder Reveals Hillary Clinton's Way To Promote Her Presidential Campaign\",\n",
       "   'Here’s who professional gamblers are betting will become president',\n",
       "   'This Old Woman Sat Down At A Piano At The Bus Stop. What She Does Next? CHILLS!',\n",
       "   'Beloved TV cartoon character races onto game consoles',\n",
       "   \"This 28-year-old retired with a $2 million net worth. Here's how she's investing in 2017:\",\n",
       "   'How many millions did The Interview make online this weekend?',\n",
       "   \"Why You Shouldn't Scare Your Cat With a Cucumber\",\n",
       "   'Why J. K. Rowling Endorsed ‘Harry Potter and the Cursed Child’ for the Stage',\n",
       "   'What is the easiest way to quit smoking?',\n",
       "   'Born in a ‘Small Town’: How John Mellencamp Wrote the Song',\n",
       "   \"Famous crime writer's home is up for grabs...interested?\",\n",
       "   'This island paradise is slowly being consumed by nature',\n",
       "   'LeBron reveals his secret motivation',\n",
       "   'Guess how much money Bill Gross made last year? Exclusive by @ritholtz:',\n",
       "   \"Facebook Is Building Apartments Anyone Can Rent—But There's a Huge Catch\",\n",
       "   'Skinny Jeans May Look Great But It Could Do This To Your Body. Shocking!',\n",
       "   'The most life-affirming TV episode of the year came from the most unexpected place',\n",
       "   'Ticking time bomb',\n",
       "   'This woman saved a man’s life on their first date',\n",
       "   'This Barista Had The Best Response When A Customer Asked To Be Served By A White Person',\n",
       "   'Something Makes This Grandmother Run Out in the Rain...When You See Why, It Will Make You Cry!',\n",
       "   'You won’t believe how this Game of Thrones snow art was made',\n",
       "   \"This Veteran Boiled Toilet Paper When She Was At Her Lowest. When You See Why, It's Incredible.\",\n",
       "   \"Watch What Happens When You Try to Steal a Rolls Royce's Hood Ornament\",\n",
       "   '#SelenaGomez rates herself a WHAT on the hotness scale?!',\n",
       "   \"There's A Brexit-Inspired Erotic Novel And It's Officially Gone Too Far\",\n",
       "   \"You Won't Believe Who Khloe Kardashian Is Hooking Up With Now\",\n",
       "   'Blue Angel pilot decided not to eject to do something incredibly heroic',\n",
       "   'Six of the last seven times this happened, stocks rose',\n",
       "   'Why Rio ratings are terrible',\n",
       "   \"You won't believe what these benches are made from\",\n",
       "   'Poll shows what Americans think of Obama-Rouhani phone call',\n",
       "   'This herb could be the secret to curbing cows’ climate-changing burps',\n",
       "   'Why Russia has two St. Patrick’s days this year',\n",
       "   'Why Brock Turner Is Not Actually A Rapist',\n",
       "   \"This is the Secret to the Insane BLT at Tom Colicchio's New Sandwich Shop\",\n",
       "   'Austin couple upset with description on IHOP receipt',\n",
       "   'Well this is awkward (PHOTOS)',\n",
       "   \"There's A £20,000 House Up For Sale But There's A Catch\",\n",
       "   \"Mayor's husband busted for allegedly selling meth\",\n",
       "   'You Won’t Believe the Food That Has Quickly Replaced Tobacco as The Most Popular Currency in US Prisons',\n",
       "   'A member of the X-Men just came out of the closet',\n",
       "   'Cynthia Nixon reveals a shocking fact about those \"SATC\" sex scenes',\n",
       "   'O.J. Simpson allegedly had an affair with this 1980s music video vixen',\n",
       "   'And the richest state in the country is...',\n",
       "   \"This might be the most energizing afternoon routine (it's not more coffee)\",\n",
       "   \"Boy dies after playing new 'game' all the kids are playing\",\n",
       "   'You probably know to ask yourself, \"What do I want?\" Here’s a way better question',\n",
       "   'The secret reason so many men go to the gym',\n",
       "   \"You'll Never Believe How This Woman Won $1 Million in Just 8 Seconds\",\n",
       "   'Here’s The ‘No. 1’ Thing You Didn’t Know About Katy Perry',\n",
       "   '@JustinBieber goes by a different name now',\n",
       "   'Gene Wilder Agreed To Play Willy Wonka Under This One Condition',\n",
       "   'Bones discovered in river believed to be 1000 years old',\n",
       "   'The strange word everyone is saying/texting',\n",
       "   'Country singer delivers EPIC slam to Westboro Baptist Church protesters',\n",
       "   \"Michael Jackson Fans Think He's Alive and They've Got Proof\",\n",
       "   'Are Shorter Work Days Better For Your Health &amp; Productivity?',\n",
       "   \"I was behind the wheel when a self-driving Uber failed — here's what happens\",\n",
       "   '[The Guardian] Why did Croatia fans disrupt their Euro 2016 match against Czech Republic?',\n",
       "   \"Tragic Details Of Kimbo Slice's Death Have Been Released\",\n",
       "   'Here’s Why Blizzard Is Already Banning Thousands Of Overwatch Players',\n",
       "   \"He Tackles A Nurse At The Hospital. Then You See What's On The Floor Next To Them...\",\n",
       "   'Why you SHOULD be selfish at work',\n",
       "   'The one strange trick that will make you live longer',\n",
       "   'Nerd Wins Scrabble Championship With Word You’ve Never Heard Of',\n",
       "   'The bizarre new way to eat eggs that has everyone going crazy',\n",
       "   'The perfect playlist to listen to on \"Star Wars\" Day',\n",
       "   'Why You Should Never Pet A Service Dog',\n",
       "   'The First Person In The Royal Family Has Just Come Out As Gay',\n",
       "   'A man who retired at 34 explains one bad savings habit that everyone should avoid',\n",
       "   'The Annoying Question No Mom Wants to Hear When She Goes on Vacation',\n",
       "   \"Foursquare's Dennis Crowley: This mistake will get you called out on social media\",\n",
       "   'The salsa legend behind the Google doodle',\n",
       "   \"Manchester United fans will certainly be relieved with David De Gea's latest comments\",\n",
       "   'Just how much US debt does Saudi Arabia own?',\n",
       "   \"Studio Ghibli solves one of Spirited Away's biggest mysteries\",\n",
       "   \"In the Digital Age, is shopping America's new religion?\",\n",
       "   'Declawing Your Cat Could Become Illegal If You Live In This State',\n",
       "   'Football star comes out as gay',\n",
       "   'Hold up, are Denmark and Sweden trying to start WWIII?',\n",
       "   'Can you really save up to 90% on brand new iPhone 6s, iPad Pro and Macbooks?',\n",
       "   'Selena Gomez Just Pulled Off the Most Difficult Color to Wear in the World',\n",
       "   'If You See A Man With One Painted Fingernail, THIS Is What It Means...',\n",
       "   'Mark Hamill’s Perfect Response to Female Star Wars Fan Who Wants to Dress as Luke Skywalker for...',\n",
       "   '9 Cops Sit Down In Her Section At Red Robin, Then Waitress Realizes Something Is VERY Wrong...',\n",
       "   'Why Americans think we are having stronger storms',\n",
       "   'NEW: How Trump won Florida',\n",
       "   'And the best country for women is...',\n",
       "   'This Dog Is NOT Happy about His Visit to the Vet. Watch This!',\n",
       "   '[Th Guardian] We shoppers aren’t to blame for food waste. Guess who is.',\n",
       "   'Is the NES Classic Edition available for pre-order?',\n",
       "   'One of the biggest ways college students are ripped off is getting out of control',\n",
       "   \"You'll Never Guess What Nick Jonas Does in the Shower\",\n",
       "   'The secret to being successful is a lot easier than you think',\n",
       "   'The weirdest city in America',\n",
       "   'How Stephen Hawking Has Lived So Long With ALS',\n",
       "   \"Scientists accidentally discover a new color, and it's beautiful!\",\n",
       "   'Blocking this color light may help you sleep better',\n",
       "   'Is this image proof of BEER on Mars?',\n",
       "   'The saddest/happiest show on TV is...',\n",
       "   \"Here's why summer in New York City smells so awful\",\n",
       "   'He Heard Something Moving Inside This Dumpster... What He Found Inside? Astonishing!',\n",
       "   \"Popular country singer's tour bus strikes and kills pedestrian\",\n",
       "   'JK Rowling channeled her inner Malfoy to get revenge on Stephen Fry over Harry Potter audio-book',\n",
       "   'We Calculated How Long It Would Take to Do Everything BuzzFeed Tells You to Do Before You Die',\n",
       "   'Russell Wilson Refuses to Listen to Drake Before Games',\n",
       "   \"Why I Won't Buy One Extra Box Of Kleenex For My Kid's School Supplies\",\n",
       "   \"You won't believe why ESPN said they hired Jordan Rodgers\",\n",
       "   \"The 'Netflix tax' is starting...but WHERE?\",\n",
       "   \"Giant Whales Found Dead In Germany. You Won't Believe What Killed Them\",\n",
       "   \"New data reveals who's likely to get married more than once\",\n",
       "   'When her Dad says \"bang\" I never thought she\\'d react like THIS — Hilarious!',\n",
       "   'Lorde (@lordemusic) names her favorite Disney star',\n",
       "   \"This teacher's unusual 'homework' assignment is going viral for the best reason\",\n",
       "   'Pokémon Go Cheat: How to Get Unlimited Lucky Eggs & Incense',\n",
       "   \"The biggest mistake you're making in the bathroom\",\n",
       "   '\"Empire\" star comes out of the closet',\n",
       "   'Is Clinton headed for a landslide win? Here’s one reason it could happen',\n",
       "   'The One Thing You Should Never Do With Your Boarding Pass',\n",
       "   'Trump and Hillary Refuse to Explain Why They Both Share the Same Address',\n",
       "   \"You won't believe who Usain Bolt says is his biggest inspiration\",\n",
       "   'Amazon Prime just got WAY better',\n",
       "   'Guess how much rent Katie Holmes is paying for her swanky New York penthouse:',\n",
       "   'A University Recognizes a Third Gender: Neutral',\n",
       "   'Can athletes be vegans?',\n",
       "   'Back to jail',\n",
       "   '\"Pluto’s Little Sister\" Makemake Has Something Even Pluto Doesn\\'t » Second Nexus',\n",
       "   \"@NARSissist's Guy Bourdin collection to debut on...@Snapchat?\",\n",
       "   'PGA Just Cancelled A Huge Tournament At Trump’s Resort. Where They Moved It To Will Infuriate Him',\n",
       "   \"Can You Guess The Indian Cricketer Who Is Totally Rocking His Beard Game? I Couldn't.\",\n",
       "   \"She Put On 100 Pounds In Just Two Years. Doctors Couldn't Find A Reason, Until She Found It Herself\",\n",
       "   \"Out Of All Men's Haircuts, This Is The Most Requested In America\",\n",
       "   '@JulieChen reveals painful secret',\n",
       "   'Meryl Streep Marries',\n",
       "   'Should You Make Metabolic Conditioning a Part of Your Fitness Routine?',\n",
       "   'Look who caught the bouquet at the Grammys mass wedding',\n",
       "   'Country files legal proceedings against Russia over Greenpeace arrests',\n",
       "   \"This Woman's Response To People Who Shamed Her Engagement Photos Is Too Perfect\",\n",
       "   'EA \"Absolutely Rejected\" Battlefield 1’s World War 1 Setting Before This Made It Change Its Minds',\n",
       "   \"Woman Buys Doormat Off Amazon, Here's What She Got Instead\",\n",
       "   \"This CEO's first job? A Hooters girl\",\n",
       "   'Why Obama’s half-brother says he’ll be voting for Donald Trump',\n",
       "   'Target impresses with new designer collaboration',\n",
       "   \"Research Reveals Indian Men Are Becoming Infertile. Here's Why!\",\n",
       "   'Jennifer Lawrence Knows Exactly What She Would Say If She Ever Met Donald Trump',\n",
       "   'Hillary Clinton Is Advertising in Deep-Red Nebraska. Here’s Why',\n",
       "   'Donald Trump just made an extremely important promise. It’s one of his worst yet.',\n",
       "   'Study shows that most Thais spend majority of time doing nothing',\n",
       "   'Xbox One\\'s Terraria Facing This \"Serious Issue\"',\n",
       "   'The Simple Way To Banish Stinky Garlic Breath',\n",
       "   'He Went To Rip Weeds From His Lawn. Hours Later He’s Dead. You Could Be Next. BE WARNED...',\n",
       "   'The Dish You Should Never Order in Rome',\n",
       "   'This Is What Happens To You If You Drink 4 Energy Drinks A Day For 7 Years',\n",
       "   'How one woman lost nearly 200 pounds',\n",
       "   'The emergency warning has been downgraded to watch and act',\n",
       "   'British Police Officers Reveal What They Really Think About the War on Drugs',\n",
       "   'This seagull fell into a vat of chicken tikka masala. I think I can explain why',\n",
       "   'The One Thing Morgan Freeman Still Thinks Is Terrible About The Shawshank Redemption',\n",
       "   'This guy just won the 2014 Name of the Year contest. He totally deserves it:',\n",
       "   'How safe is your DNA?',\n",
       "   \"Here's the part of the UK that has the most sex\",\n",
       "   'He Places Colored Water in Bread Pans Outside During a Snowstorm. What he Makes is Stunning!',\n",
       "   'Why Unbreakable remains the ultimate superhero movie',\n",
       "   'Something Crazy is Happening in Switzerland, and its a Bad Sign for the World Economy',\n",
       "   \"You probably won't guess what Walmart's biggest Black Friday seller was:\",\n",
       "   'Major retailer plans to lower prices this spring',\n",
       "   'Ever Wondered Why Disney Characters Never Have Mothers? The Answer Is Actually TRAGIC',\n",
       "   'Donald Trump Appeared In A 2000 Playboy Softcore Porn',\n",
       "   'Ever wondered what the smaller pocket inside the bigger pocket of your jeans is for?',\n",
       "   'What The Heck Was This Smelly Pink Blob Floating In The Indian Ocean?',\n",
       "   \"Peter Dinklage's voice-over work on this video game is pretty unbearable\",\n",
       "   'Will Xbox One be getting Playstation 4.5 style upgrades?',\n",
       "   'Costco Is Making a Big Change Today That Shoppers Need to Know About',\n",
       "   'Something unexpected gave this paralyzed man his life back',\n",
       "   'Is that Kim Jong Un walking the streets of Hong Kong?',\n",
       "   'Do You Know What The Apple Logo Actually Looks Like?',\n",
       "   'Oregon militia leader has jail complaints',\n",
       "   'This is the horrifying thing that happens to your hands when you fall asleep outside in winter',\n",
       "   'Here’s Why You Shouldn’t Freak Out About The ‘J Law Cast As Mulan’ News... Yet',\n",
       "   'Shah Rukh Khan Has BLOCKED Salman Khan Fans And Here Is The Reason Why',\n",
       "   'Legendary Mexican singer falls off stage during anniversary concert',\n",
       "   'Here’s how much every country would have to pay to stop climate change',\n",
       "   'What Will Humans Look Like 100,000 Years From Now?',\n",
       "   'There was danger to her life due to an abnormality in the foetus',\n",
       "   'Donald Trump takes poll lead over Hillary Clinton – is it time to panic?',\n",
       "   'Can \"wax\" help save endangered mammals?',\n",
       "   'A Temple In Mussoorie Did Something That Helps Save Water Without Breaking Tradition',\n",
       "   \"The Queen had a brilliant response when a tourist asked her if she'd met the Queen\",\n",
       "   'Finally: @Radiohead have announced their new album release date',\n",
       "   'This is the restaurant of your dreams',\n",
       "   'Former NBA player reportedly drowns after tripping and hitting his head near his pool.',\n",
       "   'MIT researches can read a book without opening the cover',\n",
       "   'This is why no one wants to work with Katherine Heigl anymore',\n",
       "   'Penn (of Penn &amp; Teller) loses 100 lbs with ONE vegetable',\n",
       "   'The beauty blunders that are making you appear ten years OLDER',\n",
       "   \"Who got dropped in 'SNL' cast shakeup?\",\n",
       "   'What State Has the Worst Drivers',\n",
       "   'Are You Reading The Wrong Books? What Science Is Saying About Fiction Readers',\n",
       "   'Does your iq correlate with the rap music you listen to?',\n",
       "   \"You won't believe how old this female bodybuilder is\",\n",
       "   'Your Brain Has A \"Delete\" Button--Here\\'s How To Use It',\n",
       "   'What would happen if the Olympics banned Russia?',\n",
       "   'Mother’s pork joint looks like something quite different',\n",
       "   'What J.K. Rowling is most proud of',\n",
       "   \"You Won't Believe How Much the TSA Makes From Leftover Change\",\n",
       "   'How the legal drinking age of 21 actually saves lives',\n",
       "   \"This state has more #marijuana shops than Starbucks or McDonald's.\",\n",
       "   \"We totally weren't expect this from the Romneys\",\n",
       "   'Barcelona sign ronaldinho for the second time as brazillian takes on new role',\n",
       "   'Jennifer Lawrence will make an unexpected cameo in highly anticipated sequel',\n",
       "   'Mom Reveals Chilling Message 1 Year After Snapping Photo Of Daughter’s 1st Day Of School',\n",
       "   \"What happened to CS:GO skin prices after Valve's gambling ban\",\n",
       "   \"You'll never guess the secret ingredient in this pumpkin pie\",\n",
       "   'In 2002, The Dillinger Escape Plan singer took a dump onstage at Reading Festival; in 2016, he did THIS...',\n",
       "   'Bear breaks into bakery and devours dozens of pies, but leaves one kind behind',\n",
       "   'Apple Files New Patent And You Won’t Believe What It Is For',\n",
       "   \"Boil Christmas veg? Don't sprout nonsense\",\n",
       "   'A sure way to get rid of dry flaky skin',\n",
       "   'Star Wars Actor Confirms Rogue One Cameo',\n",
       "   'Can Linux ever beat Windows at PC gaming?',\n",
       "   \"Justin Bieber's Latest Antics Prove Just How Big a Dick He Really is\",\n",
       "   \"This is what happens if you touch a member of the Queen's Guard\",\n",
       "   'NJ police searching for 2 men who they say tried to abduct a 10-year-old girl when she was doing this',\n",
       "   'This unlikely former First Lady hints at supporting Clinton over Trump',\n",
       "   'If you see this guy on a dating site, run a mile',\n",
       "   'Adele has to give this up to save her voice. Hello singer has to make a tragic sacrifice for her music',\n",
       "   \"A fan tried to grab @jtimberlake's butt during his performance. This is what happened next\",\n",
       "   'Is buying organic really worth it?',\n",
       "   'This state is the most magical place in America',\n",
       "   'Here come initial jobless claims...',\n",
       "   'The surprising reason Lego wanted people to stop buying its toys',\n",
       "   'Steven Spielberg Promises One Big Thing for Indiana Jones 5',\n",
       "   'Your Old Passport Will Be Replaced With Smart E-passport, Here Is Everything You Need To Know',\n",
       "   'When This Guy Bought A Used Car, He Never Thought He’d Find THIS Hidden Inside.',\n",
       "   'The ingenious way this driver briefly escaped a police pursuit under the nose of choppers',\n",
       "   '#Shocking School van driver raped children in his car',\n",
       "   'Irish rower dies in freak accident hours after winning medal',\n",
       "   'You Can Be Mentally Stronger If You Do This Small Act Every Day',\n",
       "   \"This U.S. city will soon have the nation's most-taxed cigarettes\",\n",
       "   'The \"sexy lie\" we should all be talking about',\n",
       "   'Why We Sent a Reporter to Work as a Private Prison Guard',\n",
       "   'Sadly, This Is The Top Vegetable 1-Year-Olds In America Eat',\n",
       "   'A Shocking Find In a Neanderthal Cave in France',\n",
       "   'This Woman Crashed Her Car, The Reason Why Is Pretty Ridiculous',\n",
       "   \"The simple reason the Cavs can't win the NBA title\",\n",
       "   \"The future of fast food has arrived and it's a one-of-a-kind experience\",\n",
       "   \"You'll Never Guess How Much Money the Marvel Universe Has Grossed\",\n",
       "   'GTA V Player Uncovered A New Never-Before-Found Secret In-Game',\n",
       "   'Most millennials believe student debt is a \"major\" problem—and this is who they blame.',\n",
       "   'Family values.',\n",
       "   'Jennifer Garner Decides on Ben Affleck Divorce: To Split or Reconcile?',\n",
       "   \"'Please value life'\",\n",
       "   'So woke!',\n",
       "   \"This Teen's Last Text Before She Died May Have Predicted Her Tragic Fate\",\n",
       "   \"Football player donates a week's paycheck to sick little girl, makes her season bright\",\n",
       "   \"Chainsmokers' Andrew Taggart (Sort of) Clarifies Which Blink-182 Song They 'Beat to Death' in 'Closer'\",\n",
       "   '@KimKardashian steps out in leggings for Pilates class',\n",
       "   'New Overwatch Hero Announced And It’s Not Who You Expected',\n",
       "   '\"I was laughing, clearly he did some homework. ... He Googled me and found some things.\"',\n",
       "   'Orlando Coroner Did Something Unusual with Shooter’s Body to Honor the 49 Victims',\n",
       "   'Scientists have FINALLY found a legit cure for hangovers. You won’t believe what it is —&gt;',\n",
       "   'Former \"Full House\" star is now a go-go-dancer',\n",
       "   'Chinese Father Realizes His Greatest Regret After His Son Dies in Car Accident',\n",
       "   'How did @MileyCyrus beat @Beyonce?!',\n",
       "   'Adele Forgets The Lyrics To Her Own Song, Her Reaction Will Make You LOL',\n",
       "   'A gay teenager has been hailed a feminist hero for her fantastic high school yearbook quote',\n",
       "   'Proof that Santa Claus loves pit bulls',\n",
       "   'Head’s up \"The Newsroom\" fans this one might sting a bit',\n",
       "   'Microsoft Applicant Shares Crazy Hard Interview Question That Left Him Stumped',\n",
       "   'What Does the ‘Brexit’ Vote Mean for Northern Ireland, Scotland and Wales?',\n",
       "   'This is the difference between a job and a calling',\n",
       "   \"He's Having A Bad Day At Work, But When He Looks Out Of His Truck, He Spots THIS...\",\n",
       "   'This \"Star Wars\" theory about Rey will blow your mind',\n",
       "   'A former model starved to death, but not from anorexia',\n",
       "   'The Ice Bucket Challenge actually ... worked?',\n",
       "   'Why are so many Olympians covered in large red circles?',\n",
       "   'Power battle',\n",
       "   'Do Trees Sleep at Night?',\n",
       "   \"London's Muslim Mayor Perfectly Responds To Donald Trump's Offer In Just 5 Words\",\n",
       "   'Because of Brexit, this city is now likely to become Europe’s startup capital',\n",
       "   \"Why You Can't Eat the Best Chocolate Crinkles in Manila\",\n",
       "   'How to Fall Asleep in Under a Minute',\n",
       "   \"Cop met little girl in 1998; now she's done this\",\n",
       "   'The real purpose of the end part of chopstick will blow your mind',\n",
       "   \"We bet you didn't know this about your ice cube trays\",\n",
       "   'Are Student Athletes More Likely to Commit Sexual Assault?',\n",
       "   'Why Voting for Donald Trump Is a Morally Good Choice',\n",
       "   'She Boiled Watermelon Seeds For A Reason I’d Never Heard Of.',\n",
       "   'Here’s who Warren Buffett thinks should be the next Fed chairman',\n",
       "   'Coming this fall',\n",
       "   '1 Reason Not To Go Online If You Live In The U.S.',\n",
       "   \"You'll Never Guess What Else Gives You The Munchies\",\n",
       "   'Final episodes of \"Breaking Bad\" will be on @Netflix way sooner than you thought',\n",
       "   'Is It Safe to Drink Blood?',\n",
       "   \"If you're a millennial couple, chances are you flat-out ROCK at this\",\n",
       "   '\"I’d never heard of this condition until the terrible joint pain set in.\"',\n",
       "   'How the Chicago Cubs won Game 7',\n",
       "   'Did You Know The Lids From Plastic Cups Were Made To Do This?',\n",
       "   'The worst gift to give this Christmas',\n",
       "   'Matt Damon once asked Prince where he lived, got the most Prince answer imaginable',\n",
       "   'Scarlett Johansson could make Oscar history',\n",
       "   'All Blue-Eyed People Have This One Thing In Common',\n",
       "   \"A mother hears her dead son's heart beat\",\n",
       "   'What No One Tells You About Going Platinum (Blonde)',\n",
       "   'The Crazy Cooking Hack that Slashes the Calories in Rice by Half',\n",
       "   'If You See This In A Public Washroom LEAVE Immediately And Call 911.',\n",
       "   \"CNN caught ADDING key word to Trump's comments;Twitter ERUPTS\",\n",
       "   \"So THAT'S Why Men And Women Take Their Shirt Off Differently\",\n",
       "   'Game of Thrones: Did you catch this subtle change during the finale?',\n",
       "   'The eyeshadow color redheads should be wearing is...',\n",
       "   '\"He is just a humongous human being that has out-of-this-world power. 550 feet is not out of the question.\"',\n",
       "   'According To Science, This Is The Most Addictive Food In The World',\n",
       "   'The terrifying way not sleeping enough actually changes your gut',\n",
       "   '@MileyCyrus strips down in an entirely different way',\n",
       "   'The magic word this researcher says can get people to agree with you',\n",
       "   'Why Buffy the Vampire Slayer was the best possible name for that show',\n",
       "   'This chain will give you free burgers for life, but on one condition',\n",
       "   'Stop eating this food immediately! It causes 4 types of cancer!',\n",
       "   'Marvel star jokes about alien sex because why not?',\n",
       "   'Did You Know That This Plant From Your Garden Can Treat Hair Loss?',\n",
       "   \"In case you're interested here is Scarlett Johansson's SAT score\",\n",
       "   'Look who just launched a new free streaming-music service:',\n",
       "   \"Bernie Sanders' Secret Service code name is...\",\n",
       "   'REVEALED: People who POOP at this time of day are healthiest',\n",
       "   'This university has more NCAA championships than black male freshmen',\n",
       "   'If you leave your kids alone, it’s not predatory strangers who are a risk',\n",
       "   'Battlefield 1 might have a hilarious new game mode that sounds crazy',\n",
       "   '.@priyankachopra said what?😮🤣',\n",
       "   '\"Dallas\" Season 3 premiere date revealed',\n",
       "   \"Here's exactly how much sleep you need to remain healthy\",\n",
       "   'How @taylorswift13 really found @TeganandSara',\n",
       "   'When This Animal Shelter Asked Pokémon Go Players To Walk Their Dogs, They Didn’t Expect This',\n",
       "   'Donald Trump calls Ted Cruz the p word',\n",
       "   '\"We have already authorized this, meaning the law was passed almost 10 years ago.\"',\n",
       "   'Expect Hillary to do this almost immediately if she wins in November',\n",
       "   'Ex-NFL player suspected in the death of his cellmate',\n",
       "   'And the best interior in the world is...',\n",
       "   'The First Person to Capture All 142 Pokémon Just Got the Gift of a Lifetime',\n",
       "   'What Will Make The Future Of Energy Terrorist-Proof?',\n",
       "   'Wondering if you can get pregnant during a pregnancy? 🤔  Dr Karl has the answer for you. #science',\n",
       "   'Tina Fey reveals one \"SNL\" cast member called her the C-word',\n",
       "   'How should publishers and news organizations utilize the text messaging medium?',\n",
       "   'A Farmer Got More Than He Bargained For When He Dug Up This On Christmas Day',\n",
       "   \"Here's How Much You're Going To Spend On The Holidays This Year\",\n",
       "   'Oh?',\n",
       "   \"This Rock Seems Out Of Place. When He Moves It? I Can't Believe It Leads To THIS\",\n",
       "   'The Surprising Thing You Never Have To Do In Watch Dogs 2',\n",
       "   'Gosselin: I can see Cowboys QB Tony Romo playing all 16 games if this happens',\n",
       "   'Pikachu Just Got A New Name And People Are P****d!',\n",
       "   'This is how humans are damaging #Earth!',\n",
       "   'The Strange Reason Nearly Every Film Ends by Saying It’s Fiction',\n",
       "   'Why Are Cats So Insanely Afraid Of Cucumbers?',\n",
       "   'Want To Lose More Weight? Simply Replace Your Diet Soda With This After Meals',\n",
       "   'Is this @tomhanks best performance ever?',\n",
       "   'WATCH: Moment A Panther Leaps At A Man With No Glass To Protect Him',\n",
       "   'This almost free item is one of the most important things you can keep in your car',\n",
       "   'Chick-Fil-A just dropped a BOMB on Black Lives Matter...Police officers are pumped!',\n",
       "   '850 DNA matches after city clears rape kit backlog',\n",
       "   \"Couple Waited 9 Years to Unwrap Wedding Gift That Read 'Do Not Open Until 1st Disagreement'\",\n",
       "   \"If You Have a Chip-Enabled Card, There's One Thing You Should Never Do\",\n",
       "   'Magazine responds to backlash against Melissa McCarthy cover',\n",
       "   \"Here's what happens if you never wash your jeans\",\n",
       "   'Why some people think Trump snorted cocaine or Adderall before Monday’s presidential debate',\n",
       "   'Why You Should Drink Milk Before A Road Trip',\n",
       "   'This woman was rejected from a job interview with a savage emoji message',\n",
       "   'Look which formerly infamous Internet star is the new face of @AmericanApparel',\n",
       "   'Read this before you go out to shovel your driveway',\n",
       "   'Her Daddy Died Before She Was Born. But Watch What They Capture On Camera...',\n",
       "   \"You'll never believe what Selena Gomez orders at McDonalds\",\n",
       "   \"This state wants to legalize medical marijuana. Police agencies won't let it\",\n",
       "   'Parents Who Bring Forgotten Lunch to School See Shocking Orders Posted on Door',\n",
       "   'Two Strangers Hug a Woman After Asking for Directions, but Watch What the Lady in Purple Does',\n",
       "   'The next #SNL Weekend Update anchor is...',\n",
       "   'State senators want to make it easier to legislate behind closed doors',\n",
       "   \"The Real Reason Airplane Windows Don't Always Align With Your Seat\",\n",
       "   \"Here's A New Clue About Where 'The Simpsons' Actually Takes Place\",\n",
       "   'A Pregnant Dog Lays Lifelessly In A Field, But Seconds Later, I Gasped',\n",
       "   'Here’s Sony’s Response To Microsoft’s Invite to Connect Xbox One and PS4 Networks',\n",
       "   \"The 'Batman v Superman' Easter Egg Almost Everybody Missed\",\n",
       "   \"If You've Ever Shivered After Peeing, THIS Is What's Happening\",\n",
       "   'NASA Warns Massive Asteroid Is Heading Towards Earth TODAY',\n",
       "   \"A woman who interviewed over 100 people at Goldman Sachs says there's one question she always hoped candidates would ask her, but they never did\",\n",
       "   \"Boris Johnson's Brexit speech was uploaded to Pornhub with a new title\",\n",
       "   'WATCH: Wrestling legend comes out of the closet at 73',\n",
       "   \"Hey, what's that thing *you* did to succeed?\",\n",
       "   'Former \"Community\" star tweets importance of \"Arsenio Hall Show\"',\n",
       "   \"11 of the nation's 100 most dangerous cities are in this state\",\n",
       "   'J.K. Rowling has revealed a heartbreaking truth about Hagrid',\n",
       "   'Perhaps the most shocking result so far is in Missouri. #ElectionNight',\n",
       "   'How long does sex normally last?',\n",
       "   'People are very worried by this video of Donald Trump',\n",
       "   'The antibodies that were invented to help immunologists find GOD',\n",
       "   \"KFC’s secret ingredient is 'the most under-appreciated spice' in the world\",\n",
       "   'Sex experts think that more straight men are exploring a formerly taboo hot spot',\n",
       "   'Both Campaigns Stunned After Houston Chronicle Makes VERY Surprising Endorsement',\n",
       "   'One Guy Decided To Explore This Abandoned Building... And Instantly Regretted It.',\n",
       "   \"Here's a controversial idea about China's economy that no one wants to hear\",\n",
       "   'Dog Dies One Hour After Hiking With His Owner, Veterinarian Gives Shocking Reason Why',\n",
       "   'This is what happens when you leave a hotel cleaner a $500 tip',\n",
       "   \"This Texas GOP elector announces that he won't vote for Trump\",\n",
       "   \"WikiLeaks' Julian Assange Reported Dead\",\n",
       "   'Original \"Law &amp; Order: SVU\" cast member leaving the show']])"
      ]
     },
     "execution_count": 38,
     "metadata": {},
     "output_type": "execute_result"
    }
   ],
   "source": [
    "model.eval_model(validation_dataset, acc=sklearn.metrics.accuracy_score)"
   ]
  },
  {
   "cell_type": "code",
   "execution_count": 37,
   "id": "0e19fba7",
   "metadata": {
    "collapsed": true
   },
   "outputs": [
    {
     "data": {
      "application/vnd.jupyter.widget-view+json": {
       "model_id": "87d7ce079a574be6877f707000da630e",
       "version_major": 2,
       "version_minor": 0
      },
      "text/plain": [
       "  0%|          | 0/826 [00:00<?, ?it/s]"
      ]
     },
     "metadata": {},
     "output_type": "display_data"
    },
    {
     "data": {
      "application/vnd.jupyter.widget-view+json": {
       "model_id": "b0f947d1e2de462eb90780b0948292b7",
       "version_major": 2,
       "version_minor": 0
      },
      "text/plain": [
       "Running Evaluation:   0%|          | 0/104 [00:00<?, ?it/s]"
      ]
     },
     "metadata": {},
     "output_type": "display_data"
    },
    {
     "data": {
      "text/plain": [
       "({'mcc': 0.5662373938122638,\n",
       "  'tp': 338,\n",
       "  'tn': 309,\n",
       "  'fp': 94,\n",
       "  'fn': 85,\n",
       "  'auroc': 0.83468548533751,\n",
       "  'auprc': 0.8406305749647641,\n",
       "  'acc': 0.7832929782082324,\n",
       "  'eval_loss': 1.4019140609235854},\n",
       " array([[-4.73007059,  4.75768614],\n",
       "        [-4.66822481,  4.89313078],\n",
       "        [ 4.12303448, -3.80747771],\n",
       "        ...,\n",
       "        [-4.3079958 ,  4.59369469],\n",
       "        [-4.60104084,  4.89709044],\n",
       "        [-4.45188284,  4.57753611]]),\n",
       " [])"
      ]
     },
     "execution_count": 37,
     "metadata": {},
     "output_type": "execute_result"
    }
   ],
   "source": [
    "model.eval_model(test_dataset, acc=sklearn.metrics.accuracy_score)"
   ]
  },
  {
   "cell_type": "markdown",
   "id": "dc0f453e",
   "metadata": {},
   "source": [
    "# Model Selection with Validation data"
   ]
  },
  {
   "cell_type": "code",
   "execution_count": 3,
   "id": "30137c27",
   "metadata": {
    "scrolled": true
   },
   "outputs": [
    {
     "name": "stdout",
     "output_type": "stream",
     "text": [
      "Skip  0\n"
     ]
    },
    {
     "name": "stderr",
     "output_type": "stream",
     "text": [
      "\r",
      "  0%|          | 0/11 [00:00<?, ?it/s]"
     ]
    },
    {
     "data": {
      "application/vnd.jupyter.widget-view+json": {
       "model_id": "aa02d7135af4473da39ee3d576b61a50",
       "version_major": 2,
       "version_minor": 0
      },
      "text/plain": [
       "  0%|          | 0/657 [00:00<?, ?it/s]"
      ]
     },
     "metadata": {},
     "output_type": "display_data"
    },
    {
     "data": {
      "application/vnd.jupyter.widget-view+json": {
       "model_id": "01947856dad5436f8890c2041337c208",
       "version_major": 2,
       "version_minor": 0
      },
      "text/plain": [
       "Running Evaluation:   0%|          | 0/83 [00:00<?, ?it/s]"
      ]
     },
     "metadata": {},
     "output_type": "display_data"
    },
    {
     "data": {
      "application/vnd.jupyter.widget-view+json": {
       "model_id": "6987ec43649f4578aab535e4ea8a3f0e",
       "version_major": 2,
       "version_minor": 0
      },
      "text/plain": [
       "  0%|          | 0/826 [00:00<?, ?it/s]"
      ]
     },
     "metadata": {},
     "output_type": "display_data"
    },
    {
     "data": {
      "application/vnd.jupyter.widget-view+json": {
       "model_id": "04ecf8e391fd4648b84e86b4c25b92c8",
       "version_major": 2,
       "version_minor": 0
      },
      "text/plain": [
       "Running Evaluation:   0%|          | 0/104 [00:00<?, ?it/s]"
      ]
     },
     "metadata": {},
     "output_type": "display_data"
    },
    {
     "name": "stderr",
     "output_type": "stream",
     "text": [
      "\r",
      "  9%|▉         | 1/11 [00:32<05:29, 32.93s/it]"
     ]
    },
    {
     "data": {
      "application/vnd.jupyter.widget-view+json": {
       "model_id": "811f5630e4f341c6b18ecc46a5436f98",
       "version_major": 2,
       "version_minor": 0
      },
      "text/plain": [
       "  0%|          | 0/657 [00:00<?, ?it/s]"
      ]
     },
     "metadata": {},
     "output_type": "display_data"
    },
    {
     "data": {
      "application/vnd.jupyter.widget-view+json": {
       "model_id": "ea7a26ca36eb434f9274ab8122d6d9d7",
       "version_major": 2,
       "version_minor": 0
      },
      "text/plain": [
       "Running Evaluation:   0%|          | 0/83 [00:00<?, ?it/s]"
      ]
     },
     "metadata": {},
     "output_type": "display_data"
    },
    {
     "data": {
      "application/vnd.jupyter.widget-view+json": {
       "model_id": "8ed3de699eb14da5954e1c1a8663783f",
       "version_major": 2,
       "version_minor": 0
      },
      "text/plain": [
       "  0%|          | 0/826 [00:00<?, ?it/s]"
      ]
     },
     "metadata": {},
     "output_type": "display_data"
    },
    {
     "data": {
      "application/vnd.jupyter.widget-view+json": {
       "model_id": "7ae80e4182a74ae48acc635bb641f5af",
       "version_major": 2,
       "version_minor": 0
      },
      "text/plain": [
       "Running Evaluation:   0%|          | 0/104 [00:00<?, ?it/s]"
      ]
     },
     "metadata": {},
     "output_type": "display_data"
    },
    {
     "name": "stderr",
     "output_type": "stream",
     "text": [
      "\r",
      " 18%|█▊        | 2/11 [01:03<04:44, 31.59s/it]"
     ]
    },
    {
     "data": {
      "application/vnd.jupyter.widget-view+json": {
       "model_id": "2ce13e5ab4c94e098bd22006a55bf6c5",
       "version_major": 2,
       "version_minor": 0
      },
      "text/plain": [
       "  0%|          | 0/657 [00:00<?, ?it/s]"
      ]
     },
     "metadata": {},
     "output_type": "display_data"
    },
    {
     "data": {
      "application/vnd.jupyter.widget-view+json": {
       "model_id": "3e43cc96a48c48c18db44f69824f2953",
       "version_major": 2,
       "version_minor": 0
      },
      "text/plain": [
       "Running Evaluation:   0%|          | 0/83 [00:00<?, ?it/s]"
      ]
     },
     "metadata": {},
     "output_type": "display_data"
    },
    {
     "data": {
      "application/vnd.jupyter.widget-view+json": {
       "model_id": "e10179a246e2453dbf34c88ef13f7df4",
       "version_major": 2,
       "version_minor": 0
      },
      "text/plain": [
       "  0%|          | 0/826 [00:00<?, ?it/s]"
      ]
     },
     "metadata": {},
     "output_type": "display_data"
    },
    {
     "data": {
      "application/vnd.jupyter.widget-view+json": {
       "model_id": "5e9f37ffc21b429b90c2ad52c1137e09",
       "version_major": 2,
       "version_minor": 0
      },
      "text/plain": [
       "Running Evaluation:   0%|          | 0/104 [00:00<?, ?it/s]"
      ]
     },
     "metadata": {},
     "output_type": "display_data"
    },
    {
     "name": "stderr",
     "output_type": "stream",
     "text": [
      "\r",
      " 27%|██▋       | 3/11 [01:39<04:27, 33.49s/it]"
     ]
    },
    {
     "data": {
      "application/vnd.jupyter.widget-view+json": {
       "model_id": "4cf6e4b9cbe5470e903b065f2f5ae9ee",
       "version_major": 2,
       "version_minor": 0
      },
      "text/plain": [
       "  0%|          | 0/657 [00:00<?, ?it/s]"
      ]
     },
     "metadata": {},
     "output_type": "display_data"
    },
    {
     "data": {
      "application/vnd.jupyter.widget-view+json": {
       "model_id": "bd318671c7da43b490ec03dfd9f170df",
       "version_major": 2,
       "version_minor": 0
      },
      "text/plain": [
       "Running Evaluation:   0%|          | 0/83 [00:00<?, ?it/s]"
      ]
     },
     "metadata": {},
     "output_type": "display_data"
    },
    {
     "data": {
      "application/vnd.jupyter.widget-view+json": {
       "model_id": "f4e22bd5b46c4fc384a66696d38aaf4f",
       "version_major": 2,
       "version_minor": 0
      },
      "text/plain": [
       "  0%|          | 0/826 [00:00<?, ?it/s]"
      ]
     },
     "metadata": {},
     "output_type": "display_data"
    },
    {
     "data": {
      "application/vnd.jupyter.widget-view+json": {
       "model_id": "dbc4bbd07c2f4639afa57036bd6566a6",
       "version_major": 2,
       "version_minor": 0
      },
      "text/plain": [
       "Running Evaluation:   0%|          | 0/104 [00:00<?, ?it/s]"
      ]
     },
     "metadata": {},
     "output_type": "display_data"
    },
    {
     "name": "stderr",
     "output_type": "stream",
     "text": [
      "\r",
      " 36%|███▋      | 4/11 [02:14<03:58, 34.10s/it]"
     ]
    },
    {
     "data": {
      "application/vnd.jupyter.widget-view+json": {
       "model_id": "7d93ef3f50b24bbca6f93459eaba12a8",
       "version_major": 2,
       "version_minor": 0
      },
      "text/plain": [
       "  0%|          | 0/657 [00:00<?, ?it/s]"
      ]
     },
     "metadata": {},
     "output_type": "display_data"
    },
    {
     "data": {
      "application/vnd.jupyter.widget-view+json": {
       "model_id": "aafb81d917774988b898f75213640917",
       "version_major": 2,
       "version_minor": 0
      },
      "text/plain": [
       "Running Evaluation:   0%|          | 0/83 [00:00<?, ?it/s]"
      ]
     },
     "metadata": {},
     "output_type": "display_data"
    },
    {
     "data": {
      "application/vnd.jupyter.widget-view+json": {
       "model_id": "2d74cfbece774b74b2c21ab4a19009be",
       "version_major": 2,
       "version_minor": 0
      },
      "text/plain": [
       "  0%|          | 0/826 [00:00<?, ?it/s]"
      ]
     },
     "metadata": {},
     "output_type": "display_data"
    },
    {
     "data": {
      "application/vnd.jupyter.widget-view+json": {
       "model_id": "1a08aa569aa6420b95176edff60ed03f",
       "version_major": 2,
       "version_minor": 0
      },
      "text/plain": [
       "Running Evaluation:   0%|          | 0/104 [00:00<?, ?it/s]"
      ]
     },
     "metadata": {},
     "output_type": "display_data"
    },
    {
     "name": "stderr",
     "output_type": "stream",
     "text": [
      "\r",
      " 45%|████▌     | 5/11 [02:54<03:37, 36.22s/it]"
     ]
    },
    {
     "data": {
      "application/vnd.jupyter.widget-view+json": {
       "model_id": "cd6877aa392e4f83b0856a5a8dfb1d36",
       "version_major": 2,
       "version_minor": 0
      },
      "text/plain": [
       "  0%|          | 0/657 [00:00<?, ?it/s]"
      ]
     },
     "metadata": {},
     "output_type": "display_data"
    },
    {
     "data": {
      "application/vnd.jupyter.widget-view+json": {
       "model_id": "6bf17352a42945deb291e5bd9e21b739",
       "version_major": 2,
       "version_minor": 0
      },
      "text/plain": [
       "Running Evaluation:   0%|          | 0/83 [00:00<?, ?it/s]"
      ]
     },
     "metadata": {},
     "output_type": "display_data"
    },
    {
     "data": {
      "application/vnd.jupyter.widget-view+json": {
       "model_id": "3b1053d2e1f04bd9955cc8a2fac68c20",
       "version_major": 2,
       "version_minor": 0
      },
      "text/plain": [
       "  0%|          | 0/826 [00:00<?, ?it/s]"
      ]
     },
     "metadata": {},
     "output_type": "display_data"
    },
    {
     "data": {
      "application/vnd.jupyter.widget-view+json": {
       "model_id": "4134810598494b7484c632bb44e5b63f",
       "version_major": 2,
       "version_minor": 0
      },
      "text/plain": [
       "Running Evaluation:   0%|          | 0/104 [00:00<?, ?it/s]"
      ]
     },
     "metadata": {},
     "output_type": "display_data"
    },
    {
     "name": "stderr",
     "output_type": "stream",
     "text": [
      "\r",
      " 55%|█████▍    | 6/11 [03:35<03:08, 37.73s/it]"
     ]
    },
    {
     "data": {
      "application/vnd.jupyter.widget-view+json": {
       "model_id": "fe73583343784eeab08a0ea779230e5f",
       "version_major": 2,
       "version_minor": 0
      },
      "text/plain": [
       "  0%|          | 0/657 [00:00<?, ?it/s]"
      ]
     },
     "metadata": {},
     "output_type": "display_data"
    },
    {
     "data": {
      "application/vnd.jupyter.widget-view+json": {
       "model_id": "0c4bae4400d34585aea592535569cef3",
       "version_major": 2,
       "version_minor": 0
      },
      "text/plain": [
       "Running Evaluation:   0%|          | 0/83 [00:00<?, ?it/s]"
      ]
     },
     "metadata": {},
     "output_type": "display_data"
    },
    {
     "data": {
      "application/vnd.jupyter.widget-view+json": {
       "model_id": "f85c1e57cd8a40879d563fe99a4afc58",
       "version_major": 2,
       "version_minor": 0
      },
      "text/plain": [
       "  0%|          | 0/826 [00:00<?, ?it/s]"
      ]
     },
     "metadata": {},
     "output_type": "display_data"
    },
    {
     "data": {
      "application/vnd.jupyter.widget-view+json": {
       "model_id": "ab48b919f36b4a06b02c5c1c4be6b5d0",
       "version_major": 2,
       "version_minor": 0
      },
      "text/plain": [
       "Running Evaluation:   0%|          | 0/104 [00:00<?, ?it/s]"
      ]
     },
     "metadata": {},
     "output_type": "display_data"
    },
    {
     "name": "stderr",
     "output_type": "stream",
     "text": [
      "\r",
      " 64%|██████▎   | 7/11 [04:16<02:35, 38.97s/it]"
     ]
    },
    {
     "data": {
      "application/vnd.jupyter.widget-view+json": {
       "model_id": "a53248894ca34baf99ceca4b4ccb04ce",
       "version_major": 2,
       "version_minor": 0
      },
      "text/plain": [
       "  0%|          | 0/657 [00:00<?, ?it/s]"
      ]
     },
     "metadata": {},
     "output_type": "display_data"
    },
    {
     "data": {
      "application/vnd.jupyter.widget-view+json": {
       "model_id": "07bd42187e8147ed91b01bf666437d0c",
       "version_major": 2,
       "version_minor": 0
      },
      "text/plain": [
       "Running Evaluation:   0%|          | 0/83 [00:00<?, ?it/s]"
      ]
     },
     "metadata": {},
     "output_type": "display_data"
    },
    {
     "data": {
      "application/vnd.jupyter.widget-view+json": {
       "model_id": "5f7b00ed5e63453fa41fd27e0163d574",
       "version_major": 2,
       "version_minor": 0
      },
      "text/plain": [
       "  0%|          | 0/826 [00:00<?, ?it/s]"
      ]
     },
     "metadata": {},
     "output_type": "display_data"
    },
    {
     "data": {
      "application/vnd.jupyter.widget-view+json": {
       "model_id": "80eb1cfe5bf74c75a4edc33bb104bfbf",
       "version_major": 2,
       "version_minor": 0
      },
      "text/plain": [
       "Running Evaluation:   0%|          | 0/104 [00:00<?, ?it/s]"
      ]
     },
     "metadata": {},
     "output_type": "display_data"
    },
    {
     "name": "stderr",
     "output_type": "stream",
     "text": [
      "\r",
      " 73%|███████▎  | 8/11 [04:58<02:00, 40.06s/it]"
     ]
    },
    {
     "data": {
      "application/vnd.jupyter.widget-view+json": {
       "model_id": "a4c36b1f32e04d479878f14c93cf9df9",
       "version_major": 2,
       "version_minor": 0
      },
      "text/plain": [
       "  0%|          | 0/657 [00:00<?, ?it/s]"
      ]
     },
     "metadata": {},
     "output_type": "display_data"
    },
    {
     "data": {
      "application/vnd.jupyter.widget-view+json": {
       "model_id": "795260344fdd4383b76fb400013b466e",
       "version_major": 2,
       "version_minor": 0
      },
      "text/plain": [
       "Running Evaluation:   0%|          | 0/83 [00:00<?, ?it/s]"
      ]
     },
     "metadata": {},
     "output_type": "display_data"
    },
    {
     "data": {
      "application/vnd.jupyter.widget-view+json": {
       "model_id": "02db496369e343baa60f2ed9e31a1fc9",
       "version_major": 2,
       "version_minor": 0
      },
      "text/plain": [
       "  0%|          | 0/826 [00:00<?, ?it/s]"
      ]
     },
     "metadata": {},
     "output_type": "display_data"
    },
    {
     "data": {
      "application/vnd.jupyter.widget-view+json": {
       "model_id": "d19c57bd2dbc467b99a440a2f681b29c",
       "version_major": 2,
       "version_minor": 0
      },
      "text/plain": [
       "Running Evaluation:   0%|          | 0/104 [00:00<?, ?it/s]"
      ]
     },
     "metadata": {},
     "output_type": "display_data"
    },
    {
     "name": "stderr",
     "output_type": "stream",
     "text": [
      "\r",
      " 82%|████████▏ | 9/11 [05:44<01:23, 41.73s/it]"
     ]
    },
    {
     "data": {
      "application/vnd.jupyter.widget-view+json": {
       "model_id": "0e046540d18f4d19977a901173bec1a8",
       "version_major": 2,
       "version_minor": 0
      },
      "text/plain": [
       "  0%|          | 0/657 [00:00<?, ?it/s]"
      ]
     },
     "metadata": {},
     "output_type": "display_data"
    },
    {
     "data": {
      "application/vnd.jupyter.widget-view+json": {
       "model_id": "3eb50cc323594687acca81934d7f83a3",
       "version_major": 2,
       "version_minor": 0
      },
      "text/plain": [
       "Running Evaluation:   0%|          | 0/83 [00:00<?, ?it/s]"
      ]
     },
     "metadata": {},
     "output_type": "display_data"
    },
    {
     "data": {
      "application/vnd.jupyter.widget-view+json": {
       "model_id": "9b0a4019e11a4bf9aed6af17a16111a6",
       "version_major": 2,
       "version_minor": 0
      },
      "text/plain": [
       "  0%|          | 0/826 [00:00<?, ?it/s]"
      ]
     },
     "metadata": {},
     "output_type": "display_data"
    },
    {
     "data": {
      "application/vnd.jupyter.widget-view+json": {
       "model_id": "ccd32dc165b042709408372542ba89f2",
       "version_major": 2,
       "version_minor": 0
      },
      "text/plain": [
       "Running Evaluation:   0%|          | 0/104 [00:00<?, ?it/s]"
      ]
     },
     "metadata": {},
     "output_type": "display_data"
    },
    {
     "name": "stderr",
     "output_type": "stream",
     "text": [
      "\r",
      " 91%|█████████ | 10/11 [06:28<00:42, 42.46s/it]"
     ]
    },
    {
     "data": {
      "application/vnd.jupyter.widget-view+json": {
       "model_id": "23e4dc2dd8b14fde91b0a918cd485953",
       "version_major": 2,
       "version_minor": 0
      },
      "text/plain": [
       "  0%|          | 0/657 [00:00<?, ?it/s]"
      ]
     },
     "metadata": {},
     "output_type": "display_data"
    },
    {
     "data": {
      "application/vnd.jupyter.widget-view+json": {
       "model_id": "d6279c0c30d549d7915be605afc044e3",
       "version_major": 2,
       "version_minor": 0
      },
      "text/plain": [
       "Running Evaluation:   0%|          | 0/83 [00:00<?, ?it/s]"
      ]
     },
     "metadata": {},
     "output_type": "display_data"
    },
    {
     "data": {
      "application/vnd.jupyter.widget-view+json": {
       "model_id": "498e1cc3532f498fab4941d431c597d7",
       "version_major": 2,
       "version_minor": 0
      },
      "text/plain": [
       "  0%|          | 0/826 [00:00<?, ?it/s]"
      ]
     },
     "metadata": {},
     "output_type": "display_data"
    },
    {
     "data": {
      "application/vnd.jupyter.widget-view+json": {
       "model_id": "e99f6ba6a5184a709cba2e7a55b7ba61",
       "version_major": 2,
       "version_minor": 0
      },
      "text/plain": [
       "Running Evaluation:   0%|          | 0/104 [00:00<?, ?it/s]"
      ]
     },
     "metadata": {},
     "output_type": "display_data"
    },
    {
     "name": "stderr",
     "output_type": "stream",
     "text": [
      "100%|██████████| 11/11 [07:11<00:00, 39.26s/it]\n",
      "  0%|          | 0/10 [00:00<?, ?it/s]"
     ]
    },
    {
     "data": {
      "application/vnd.jupyter.widget-view+json": {
       "model_id": "e8d001ba2f44460587d07e89826bb7e7",
       "version_major": 2,
       "version_minor": 0
      },
      "text/plain": [
       "  0%|          | 0/657 [00:00<?, ?it/s]"
      ]
     },
     "metadata": {},
     "output_type": "display_data"
    },
    {
     "data": {
      "application/vnd.jupyter.widget-view+json": {
       "model_id": "d271455b33a3407a97da7f0908515c4e",
       "version_major": 2,
       "version_minor": 0
      },
      "text/plain": [
       "Running Evaluation:   0%|          | 0/83 [00:00<?, ?it/s]"
      ]
     },
     "metadata": {},
     "output_type": "display_data"
    },
    {
     "data": {
      "application/vnd.jupyter.widget-view+json": {
       "model_id": "476646f621bd4a18a707dbd69a7494e3",
       "version_major": 2,
       "version_minor": 0
      },
      "text/plain": [
       "  0%|          | 0/826 [00:00<?, ?it/s]"
      ]
     },
     "metadata": {},
     "output_type": "display_data"
    },
    {
     "data": {
      "application/vnd.jupyter.widget-view+json": {
       "model_id": "9aa4e8d57cf9498aa797b8381d7eb21d",
       "version_major": 2,
       "version_minor": 0
      },
      "text/plain": [
       "Running Evaluation:   0%|          | 0/104 [00:00<?, ?it/s]"
      ]
     },
     "metadata": {},
     "output_type": "display_data"
    },
    {
     "name": "stderr",
     "output_type": "stream",
     "text": [
      "\r",
      " 10%|█         | 1/10 [00:43<06:28, 43.14s/it]"
     ]
    },
    {
     "data": {
      "application/vnd.jupyter.widget-view+json": {
       "model_id": "a2cc93f567b4441eb894e2266ce05c52",
       "version_major": 2,
       "version_minor": 0
      },
      "text/plain": [
       "  0%|          | 0/657 [00:00<?, ?it/s]"
      ]
     },
     "metadata": {},
     "output_type": "display_data"
    },
    {
     "data": {
      "application/vnd.jupyter.widget-view+json": {
       "model_id": "ef7157b7aa674893a672f662a044de5b",
       "version_major": 2,
       "version_minor": 0
      },
      "text/plain": [
       "Running Evaluation:   0%|          | 0/83 [00:00<?, ?it/s]"
      ]
     },
     "metadata": {},
     "output_type": "display_data"
    },
    {
     "data": {
      "application/vnd.jupyter.widget-view+json": {
       "model_id": "07bd27895ba4491ba514165d18f5403b",
       "version_major": 2,
       "version_minor": 0
      },
      "text/plain": [
       "  0%|          | 0/826 [00:00<?, ?it/s]"
      ]
     },
     "metadata": {},
     "output_type": "display_data"
    },
    {
     "data": {
      "application/vnd.jupyter.widget-view+json": {
       "model_id": "472ac41aa34547b188b3b1b196fd4be7",
       "version_major": 2,
       "version_minor": 0
      },
      "text/plain": [
       "Running Evaluation:   0%|          | 0/104 [00:00<?, ?it/s]"
      ]
     },
     "metadata": {},
     "output_type": "display_data"
    },
    {
     "name": "stderr",
     "output_type": "stream",
     "text": [
      "\r",
      " 20%|██        | 2/10 [01:26<05:45, 43.14s/it]"
     ]
    },
    {
     "data": {
      "application/vnd.jupyter.widget-view+json": {
       "model_id": "12dc2dd3f4cd4e22b921ef127324431a",
       "version_major": 2,
       "version_minor": 0
      },
      "text/plain": [
       "  0%|          | 0/657 [00:00<?, ?it/s]"
      ]
     },
     "metadata": {},
     "output_type": "display_data"
    },
    {
     "data": {
      "application/vnd.jupyter.widget-view+json": {
       "model_id": "99b8f7e519424979a21124f7eaeb66dd",
       "version_major": 2,
       "version_minor": 0
      },
      "text/plain": [
       "Running Evaluation:   0%|          | 0/83 [00:00<?, ?it/s]"
      ]
     },
     "metadata": {},
     "output_type": "display_data"
    },
    {
     "data": {
      "application/vnd.jupyter.widget-view+json": {
       "model_id": "b6f78e38d8894df1ae828272024b2ba5",
       "version_major": 2,
       "version_minor": 0
      },
      "text/plain": [
       "  0%|          | 0/826 [00:00<?, ?it/s]"
      ]
     },
     "metadata": {},
     "output_type": "display_data"
    },
    {
     "data": {
      "application/vnd.jupyter.widget-view+json": {
       "model_id": "922e8479601040e2a2d3acca257db49f",
       "version_major": 2,
       "version_minor": 0
      },
      "text/plain": [
       "Running Evaluation:   0%|          | 0/104 [00:00<?, ?it/s]"
      ]
     },
     "metadata": {},
     "output_type": "display_data"
    },
    {
     "name": "stderr",
     "output_type": "stream",
     "text": [
      " 30%|███       | 3/10 [02:23<05:35, 47.92s/it]\n"
     ]
    },
    {
     "ename": "RuntimeError",
     "evalue": "CUDA out of memory. Tried to allocate 198.00 MiB (GPU 0; 39.59 GiB total capacity; 16.65 GiB already allocated; 124.69 MiB free; 16.66 GiB reserved in total by PyTorch)",
     "output_type": "error",
     "traceback": [
      "\u001b[0;31m---------------------------------------------------------------------------\u001b[0m",
      "\u001b[0;31mRuntimeError\u001b[0m                              Traceback (most recent call last)",
      "\u001b[0;32m<ipython-input-3-c7e210fdd54d>\u001b[0m in \u001b[0;36m<module>\u001b[0;34m\u001b[0m\n\u001b[1;32m     20\u001b[0m         \u001b[0mmodel\u001b[0m \u001b[0;34m=\u001b[0m \u001b[0mClassificationModel\u001b[0m\u001b[0;34m(\u001b[0m\u001b[0;34m\"deberta\"\u001b[0m\u001b[0;34m,\u001b[0m \u001b[0mcheckpoint\u001b[0m\u001b[0;34m)\u001b[0m\u001b[0;34m\u001b[0m\u001b[0;34m\u001b[0m\u001b[0m\n\u001b[1;32m     21\u001b[0m \u001b[0;34m\u001b[0m\u001b[0m\n\u001b[0;32m---> 22\u001b[0;31m         \u001b[0mvalid_acc\u001b[0m \u001b[0;34m=\u001b[0m \u001b[0mmodel\u001b[0m\u001b[0;34m.\u001b[0m\u001b[0meval_model\u001b[0m\u001b[0;34m(\u001b[0m\u001b[0mvalidation_dataset\u001b[0m\u001b[0;34m,\u001b[0m \u001b[0macc\u001b[0m\u001b[0;34m=\u001b[0m\u001b[0msklearn\u001b[0m\u001b[0;34m.\u001b[0m\u001b[0mmetrics\u001b[0m\u001b[0;34m.\u001b[0m\u001b[0maccuracy_score\u001b[0m\u001b[0;34m)\u001b[0m\u001b[0;34m[\u001b[0m\u001b[0;36m0\u001b[0m\u001b[0;34m]\u001b[0m\u001b[0;34m[\u001b[0m\u001b[0;34m'acc'\u001b[0m\u001b[0;34m]\u001b[0m\u001b[0;34m\u001b[0m\u001b[0;34m\u001b[0m\u001b[0m\n\u001b[0m\u001b[1;32m     23\u001b[0m         \u001b[0mtest_acc\u001b[0m \u001b[0;34m=\u001b[0m \u001b[0mmodel\u001b[0m\u001b[0;34m.\u001b[0m\u001b[0meval_model\u001b[0m\u001b[0;34m(\u001b[0m\u001b[0mtest_dataset\u001b[0m\u001b[0;34m,\u001b[0m \u001b[0macc\u001b[0m\u001b[0;34m=\u001b[0m\u001b[0msklearn\u001b[0m\u001b[0;34m.\u001b[0m\u001b[0mmetrics\u001b[0m\u001b[0;34m.\u001b[0m\u001b[0maccuracy_score\u001b[0m\u001b[0;34m)\u001b[0m\u001b[0;34m[\u001b[0m\u001b[0;36m0\u001b[0m\u001b[0;34m]\u001b[0m\u001b[0;34m[\u001b[0m\u001b[0;34m'acc'\u001b[0m\u001b[0;34m]\u001b[0m\u001b[0;34m\u001b[0m\u001b[0;34m\u001b[0m\u001b[0m\n\u001b[1;32m     24\u001b[0m \u001b[0;34m\u001b[0m\u001b[0m\n",
      "\u001b[0;32m/usr/local/lib/python3.6/dist-packages/simpletransformers/classification/classification_model.py\u001b[0m in \u001b[0;36meval_model\u001b[0;34m(self, eval_df, multi_label, output_dir, verbose, silent, wandb_log, **kwargs)\u001b[0m\n\u001b[1;32m   1328\u001b[0m             \u001b[0moutput_dir\u001b[0m \u001b[0;34m=\u001b[0m \u001b[0mself\u001b[0m\u001b[0;34m.\u001b[0m\u001b[0margs\u001b[0m\u001b[0;34m.\u001b[0m\u001b[0moutput_dir\u001b[0m\u001b[0;34m\u001b[0m\u001b[0;34m\u001b[0m\u001b[0m\n\u001b[1;32m   1329\u001b[0m \u001b[0;34m\u001b[0m\u001b[0m\n\u001b[0;32m-> 1330\u001b[0;31m         \u001b[0mself\u001b[0m\u001b[0;34m.\u001b[0m\u001b[0m_move_model_to_device\u001b[0m\u001b[0;34m(\u001b[0m\u001b[0;34m)\u001b[0m\u001b[0;34m\u001b[0m\u001b[0;34m\u001b[0m\u001b[0m\n\u001b[0m\u001b[1;32m   1331\u001b[0m \u001b[0;34m\u001b[0m\u001b[0m\n\u001b[1;32m   1332\u001b[0m         result, model_outputs, wrong_preds = self.evaluate(\n",
      "\u001b[0;32m/usr/local/lib/python3.6/dist-packages/simpletransformers/classification/classification_model.py\u001b[0m in \u001b[0;36m_move_model_to_device\u001b[0;34m(self)\u001b[0m\n\u001b[1;32m   2272\u001b[0m \u001b[0;34m\u001b[0m\u001b[0m\n\u001b[1;32m   2273\u001b[0m     \u001b[0;32mdef\u001b[0m \u001b[0m_move_model_to_device\u001b[0m\u001b[0;34m(\u001b[0m\u001b[0mself\u001b[0m\u001b[0;34m)\u001b[0m\u001b[0;34m:\u001b[0m\u001b[0;34m\u001b[0m\u001b[0;34m\u001b[0m\u001b[0m\n\u001b[0;32m-> 2274\u001b[0;31m         \u001b[0mself\u001b[0m\u001b[0;34m.\u001b[0m\u001b[0mmodel\u001b[0m\u001b[0;34m.\u001b[0m\u001b[0mto\u001b[0m\u001b[0;34m(\u001b[0m\u001b[0mself\u001b[0m\u001b[0;34m.\u001b[0m\u001b[0mdevice\u001b[0m\u001b[0;34m)\u001b[0m\u001b[0;34m\u001b[0m\u001b[0;34m\u001b[0m\u001b[0m\n\u001b[0m\u001b[1;32m   2275\u001b[0m \u001b[0;34m\u001b[0m\u001b[0m\n\u001b[1;32m   2276\u001b[0m     \u001b[0;32mdef\u001b[0m \u001b[0m_get_inputs_dict\u001b[0m\u001b[0;34m(\u001b[0m\u001b[0mself\u001b[0m\u001b[0;34m,\u001b[0m \u001b[0mbatch\u001b[0m\u001b[0;34m,\u001b[0m \u001b[0mno_hf\u001b[0m\u001b[0;34m=\u001b[0m\u001b[0;32mFalse\u001b[0m\u001b[0;34m)\u001b[0m\u001b[0;34m:\u001b[0m\u001b[0;34m\u001b[0m\u001b[0;34m\u001b[0m\u001b[0m\n",
      "\u001b[0;32m/usr/local/lib/python3.6/dist-packages/torch/nn/modules/module.py\u001b[0m in \u001b[0;36mto\u001b[0;34m(self, *args, **kwargs)\u001b[0m\n\u001b[1;32m    671\u001b[0m             \u001b[0;32mreturn\u001b[0m \u001b[0mt\u001b[0m\u001b[0;34m.\u001b[0m\u001b[0mto\u001b[0m\u001b[0;34m(\u001b[0m\u001b[0mdevice\u001b[0m\u001b[0;34m,\u001b[0m \u001b[0mdtype\u001b[0m \u001b[0;32mif\u001b[0m \u001b[0mt\u001b[0m\u001b[0;34m.\u001b[0m\u001b[0mis_floating_point\u001b[0m\u001b[0;34m(\u001b[0m\u001b[0;34m)\u001b[0m \u001b[0;32mor\u001b[0m \u001b[0mt\u001b[0m\u001b[0;34m.\u001b[0m\u001b[0mis_complex\u001b[0m\u001b[0;34m(\u001b[0m\u001b[0;34m)\u001b[0m \u001b[0;32melse\u001b[0m \u001b[0;32mNone\u001b[0m\u001b[0;34m,\u001b[0m \u001b[0mnon_blocking\u001b[0m\u001b[0;34m)\u001b[0m\u001b[0;34m\u001b[0m\u001b[0;34m\u001b[0m\u001b[0m\n\u001b[1;32m    672\u001b[0m \u001b[0;34m\u001b[0m\u001b[0m\n\u001b[0;32m--> 673\u001b[0;31m         \u001b[0;32mreturn\u001b[0m \u001b[0mself\u001b[0m\u001b[0;34m.\u001b[0m\u001b[0m_apply\u001b[0m\u001b[0;34m(\u001b[0m\u001b[0mconvert\u001b[0m\u001b[0;34m)\u001b[0m\u001b[0;34m\u001b[0m\u001b[0;34m\u001b[0m\u001b[0m\n\u001b[0m\u001b[1;32m    674\u001b[0m \u001b[0;34m\u001b[0m\u001b[0m\n\u001b[1;32m    675\u001b[0m     def register_backward_hook(\n",
      "\u001b[0;32m/usr/local/lib/python3.6/dist-packages/torch/nn/modules/module.py\u001b[0m in \u001b[0;36m_apply\u001b[0;34m(self, fn)\u001b[0m\n\u001b[1;32m    385\u001b[0m     \u001b[0;32mdef\u001b[0m \u001b[0m_apply\u001b[0m\u001b[0;34m(\u001b[0m\u001b[0mself\u001b[0m\u001b[0;34m,\u001b[0m \u001b[0mfn\u001b[0m\u001b[0;34m)\u001b[0m\u001b[0;34m:\u001b[0m\u001b[0;34m\u001b[0m\u001b[0;34m\u001b[0m\u001b[0m\n\u001b[1;32m    386\u001b[0m         \u001b[0;32mfor\u001b[0m \u001b[0mmodule\u001b[0m \u001b[0;32min\u001b[0m \u001b[0mself\u001b[0m\u001b[0;34m.\u001b[0m\u001b[0mchildren\u001b[0m\u001b[0;34m(\u001b[0m\u001b[0;34m)\u001b[0m\u001b[0;34m:\u001b[0m\u001b[0;34m\u001b[0m\u001b[0;34m\u001b[0m\u001b[0m\n\u001b[0;32m--> 387\u001b[0;31m             \u001b[0mmodule\u001b[0m\u001b[0;34m.\u001b[0m\u001b[0m_apply\u001b[0m\u001b[0;34m(\u001b[0m\u001b[0mfn\u001b[0m\u001b[0;34m)\u001b[0m\u001b[0;34m\u001b[0m\u001b[0;34m\u001b[0m\u001b[0m\n\u001b[0m\u001b[1;32m    388\u001b[0m \u001b[0;34m\u001b[0m\u001b[0m\n\u001b[1;32m    389\u001b[0m         \u001b[0;32mdef\u001b[0m \u001b[0mcompute_should_use_set_data\u001b[0m\u001b[0;34m(\u001b[0m\u001b[0mtensor\u001b[0m\u001b[0;34m,\u001b[0m \u001b[0mtensor_applied\u001b[0m\u001b[0;34m)\u001b[0m\u001b[0;34m:\u001b[0m\u001b[0;34m\u001b[0m\u001b[0;34m\u001b[0m\u001b[0m\n",
      "\u001b[0;32m/usr/local/lib/python3.6/dist-packages/torch/nn/modules/module.py\u001b[0m in \u001b[0;36m_apply\u001b[0;34m(self, fn)\u001b[0m\n\u001b[1;32m    385\u001b[0m     \u001b[0;32mdef\u001b[0m \u001b[0m_apply\u001b[0m\u001b[0;34m(\u001b[0m\u001b[0mself\u001b[0m\u001b[0;34m,\u001b[0m \u001b[0mfn\u001b[0m\u001b[0;34m)\u001b[0m\u001b[0;34m:\u001b[0m\u001b[0;34m\u001b[0m\u001b[0;34m\u001b[0m\u001b[0m\n\u001b[1;32m    386\u001b[0m         \u001b[0;32mfor\u001b[0m \u001b[0mmodule\u001b[0m \u001b[0;32min\u001b[0m \u001b[0mself\u001b[0m\u001b[0;34m.\u001b[0m\u001b[0mchildren\u001b[0m\u001b[0;34m(\u001b[0m\u001b[0;34m)\u001b[0m\u001b[0;34m:\u001b[0m\u001b[0;34m\u001b[0m\u001b[0;34m\u001b[0m\u001b[0m\n\u001b[0;32m--> 387\u001b[0;31m             \u001b[0mmodule\u001b[0m\u001b[0;34m.\u001b[0m\u001b[0m_apply\u001b[0m\u001b[0;34m(\u001b[0m\u001b[0mfn\u001b[0m\u001b[0;34m)\u001b[0m\u001b[0;34m\u001b[0m\u001b[0;34m\u001b[0m\u001b[0m\n\u001b[0m\u001b[1;32m    388\u001b[0m \u001b[0;34m\u001b[0m\u001b[0m\n\u001b[1;32m    389\u001b[0m         \u001b[0;32mdef\u001b[0m \u001b[0mcompute_should_use_set_data\u001b[0m\u001b[0;34m(\u001b[0m\u001b[0mtensor\u001b[0m\u001b[0;34m,\u001b[0m \u001b[0mtensor_applied\u001b[0m\u001b[0;34m)\u001b[0m\u001b[0;34m:\u001b[0m\u001b[0;34m\u001b[0m\u001b[0;34m\u001b[0m\u001b[0m\n",
      "\u001b[0;32m/usr/local/lib/python3.6/dist-packages/torch/nn/modules/module.py\u001b[0m in \u001b[0;36m_apply\u001b[0;34m(self, fn)\u001b[0m\n\u001b[1;32m    385\u001b[0m     \u001b[0;32mdef\u001b[0m \u001b[0m_apply\u001b[0m\u001b[0;34m(\u001b[0m\u001b[0mself\u001b[0m\u001b[0;34m,\u001b[0m \u001b[0mfn\u001b[0m\u001b[0;34m)\u001b[0m\u001b[0;34m:\u001b[0m\u001b[0;34m\u001b[0m\u001b[0;34m\u001b[0m\u001b[0m\n\u001b[1;32m    386\u001b[0m         \u001b[0;32mfor\u001b[0m \u001b[0mmodule\u001b[0m \u001b[0;32min\u001b[0m \u001b[0mself\u001b[0m\u001b[0;34m.\u001b[0m\u001b[0mchildren\u001b[0m\u001b[0;34m(\u001b[0m\u001b[0;34m)\u001b[0m\u001b[0;34m:\u001b[0m\u001b[0;34m\u001b[0m\u001b[0;34m\u001b[0m\u001b[0m\n\u001b[0;32m--> 387\u001b[0;31m             \u001b[0mmodule\u001b[0m\u001b[0;34m.\u001b[0m\u001b[0m_apply\u001b[0m\u001b[0;34m(\u001b[0m\u001b[0mfn\u001b[0m\u001b[0;34m)\u001b[0m\u001b[0;34m\u001b[0m\u001b[0;34m\u001b[0m\u001b[0m\n\u001b[0m\u001b[1;32m    388\u001b[0m \u001b[0;34m\u001b[0m\u001b[0m\n\u001b[1;32m    389\u001b[0m         \u001b[0;32mdef\u001b[0m \u001b[0mcompute_should_use_set_data\u001b[0m\u001b[0;34m(\u001b[0m\u001b[0mtensor\u001b[0m\u001b[0;34m,\u001b[0m \u001b[0mtensor_applied\u001b[0m\u001b[0;34m)\u001b[0m\u001b[0;34m:\u001b[0m\u001b[0;34m\u001b[0m\u001b[0;34m\u001b[0m\u001b[0m\n",
      "\u001b[0;32m/usr/local/lib/python3.6/dist-packages/torch/nn/modules/module.py\u001b[0m in \u001b[0;36m_apply\u001b[0;34m(self, fn)\u001b[0m\n\u001b[1;32m    407\u001b[0m                 \u001b[0;31m# `with torch.no_grad():`\u001b[0m\u001b[0;34m\u001b[0m\u001b[0;34m\u001b[0m\u001b[0;34m\u001b[0m\u001b[0m\n\u001b[1;32m    408\u001b[0m                 \u001b[0;32mwith\u001b[0m \u001b[0mtorch\u001b[0m\u001b[0;34m.\u001b[0m\u001b[0mno_grad\u001b[0m\u001b[0;34m(\u001b[0m\u001b[0;34m)\u001b[0m\u001b[0;34m:\u001b[0m\u001b[0;34m\u001b[0m\u001b[0;34m\u001b[0m\u001b[0m\n\u001b[0;32m--> 409\u001b[0;31m                     \u001b[0mparam_applied\u001b[0m \u001b[0;34m=\u001b[0m \u001b[0mfn\u001b[0m\u001b[0;34m(\u001b[0m\u001b[0mparam\u001b[0m\u001b[0;34m)\u001b[0m\u001b[0;34m\u001b[0m\u001b[0;34m\u001b[0m\u001b[0m\n\u001b[0m\u001b[1;32m    410\u001b[0m                 \u001b[0mshould_use_set_data\u001b[0m \u001b[0;34m=\u001b[0m \u001b[0mcompute_should_use_set_data\u001b[0m\u001b[0;34m(\u001b[0m\u001b[0mparam\u001b[0m\u001b[0;34m,\u001b[0m \u001b[0mparam_applied\u001b[0m\u001b[0;34m)\u001b[0m\u001b[0;34m\u001b[0m\u001b[0;34m\u001b[0m\u001b[0m\n\u001b[1;32m    411\u001b[0m                 \u001b[0;32mif\u001b[0m \u001b[0mshould_use_set_data\u001b[0m\u001b[0;34m:\u001b[0m\u001b[0;34m\u001b[0m\u001b[0;34m\u001b[0m\u001b[0m\n",
      "\u001b[0;32m/usr/local/lib/python3.6/dist-packages/torch/nn/modules/module.py\u001b[0m in \u001b[0;36mconvert\u001b[0;34m(t)\u001b[0m\n\u001b[1;32m    669\u001b[0m                 return t.to(device, dtype if t.is_floating_point() or t.is_complex() else None,\n\u001b[1;32m    670\u001b[0m                             non_blocking, memory_format=convert_to_format)\n\u001b[0;32m--> 671\u001b[0;31m             \u001b[0;32mreturn\u001b[0m \u001b[0mt\u001b[0m\u001b[0;34m.\u001b[0m\u001b[0mto\u001b[0m\u001b[0;34m(\u001b[0m\u001b[0mdevice\u001b[0m\u001b[0;34m,\u001b[0m \u001b[0mdtype\u001b[0m \u001b[0;32mif\u001b[0m \u001b[0mt\u001b[0m\u001b[0;34m.\u001b[0m\u001b[0mis_floating_point\u001b[0m\u001b[0;34m(\u001b[0m\u001b[0;34m)\u001b[0m \u001b[0;32mor\u001b[0m \u001b[0mt\u001b[0m\u001b[0;34m.\u001b[0m\u001b[0mis_complex\u001b[0m\u001b[0;34m(\u001b[0m\u001b[0;34m)\u001b[0m \u001b[0;32melse\u001b[0m \u001b[0;32mNone\u001b[0m\u001b[0;34m,\u001b[0m \u001b[0mnon_blocking\u001b[0m\u001b[0;34m)\u001b[0m\u001b[0;34m\u001b[0m\u001b[0;34m\u001b[0m\u001b[0m\n\u001b[0m\u001b[1;32m    672\u001b[0m \u001b[0;34m\u001b[0m\u001b[0m\n\u001b[1;32m    673\u001b[0m         \u001b[0;32mreturn\u001b[0m \u001b[0mself\u001b[0m\u001b[0;34m.\u001b[0m\u001b[0m_apply\u001b[0m\u001b[0;34m(\u001b[0m\u001b[0mconvert\u001b[0m\u001b[0;34m)\u001b[0m\u001b[0;34m\u001b[0m\u001b[0;34m\u001b[0m\u001b[0m\n",
      "\u001b[0;31mRuntimeError\u001b[0m: CUDA out of memory. Tried to allocate 198.00 MiB (GPU 0; 39.59 GiB total capacity; 16.65 GiB already allocated; 124.69 MiB free; 16.66 GiB reserved in total by PyTorch)"
     ]
    }
   ],
   "source": [
    "from glob import glob\n",
    "from simpletransformers.classification import ClassificationModel\n",
    "import sklearn\n",
    "import pandas as pd\n",
    "from tqdm import tqdm\n",
    "import os.path\n",
    "\n",
    "\n",
    "for config, num in zip(configurations, range(len(configurations))):\n",
    "    directory = \"outputs/deberta_\" + str(num) + \"/\"\n",
    "    \n",
    "    df = []\n",
    "    \n",
    "    if os.path.isfile(directory + 'eval-results.jsonl'):\n",
    "        print('Skip ', num)\n",
    "        continue\n",
    "    \n",
    "    for checkpoint in tqdm(glob(directory + \"checkpoint-*\")):\n",
    "        # print(checkpoint)\n",
    "        model = ClassificationModel(\"deberta\", checkpoint)\n",
    "        \n",
    "        valid_acc = model.eval_model(validation_dataset, acc=sklearn.metrics.accuracy_score)[0]['acc']\n",
    "        test_acc = model.eval_model(test_dataset, acc=sklearn.metrics.accuracy_score)[0]['acc']\n",
    "        \n",
    "        df += [{\"checkpoint\": checkpoint, \"valid_acc\": valid_acc, \"test_acc\": test_acc,\n",
    "               \"config\": config}]\n",
    "    \n",
    "    pd.DataFrame(df).to_json(directory + 'eval-results.jsonl')\n",
    "\n"
   ]
  },
  {
   "cell_type": "code",
   "execution_count": 5,
   "id": "3bf2b0a6",
   "metadata": {},
   "outputs": [
    {
     "data": {
      "text/html": [
       "<div>\n",
       "<style scoped>\n",
       "    .dataframe tbody tr th:only-of-type {\n",
       "        vertical-align: middle;\n",
       "    }\n",
       "\n",
       "    .dataframe tbody tr th {\n",
       "        vertical-align: top;\n",
       "    }\n",
       "\n",
       "    .dataframe thead th {\n",
       "        text-align: right;\n",
       "    }\n",
       "</style>\n",
       "<table border=\"1\" class=\"dataframe\">\n",
       "  <thead>\n",
       "    <tr style=\"text-align: right;\">\n",
       "      <th></th>\n",
       "      <th>checkpoint</th>\n",
       "      <th>valid_acc</th>\n",
       "      <th>test_acc</th>\n",
       "      <th>config</th>\n",
       "    </tr>\n",
       "  </thead>\n",
       "  <tbody>\n",
       "    <tr>\n",
       "      <th>0</th>\n",
       "      <td>outputs/deberta_0/checkpoint-246-epoch-3</td>\n",
       "      <td>0.779300</td>\n",
       "      <td>0.778450</td>\n",
       "      <td>{'overwrite_output_dir': True, 'num_train_epoc...</td>\n",
       "    </tr>\n",
       "    <tr>\n",
       "      <th>1</th>\n",
       "      <td>outputs/deberta_0/checkpoint-656-epoch-8</td>\n",
       "      <td>0.768645</td>\n",
       "      <td>0.750605</td>\n",
       "      <td>{'overwrite_output_dir': True, 'num_train_epoc...</td>\n",
       "    </tr>\n",
       "    <tr>\n",
       "      <th>2</th>\n",
       "      <td>outputs/deberta_0/checkpoint-820-epoch-10</td>\n",
       "      <td>0.786910</td>\n",
       "      <td>0.755448</td>\n",
       "      <td>{'overwrite_output_dir': True, 'num_train_epoc...</td>\n",
       "    </tr>\n",
       "    <tr>\n",
       "      <th>3</th>\n",
       "      <td>outputs/deberta_0/checkpoint-410-epoch-5</td>\n",
       "      <td>0.779300</td>\n",
       "      <td>0.766344</td>\n",
       "      <td>{'overwrite_output_dir': True, 'num_train_epoc...</td>\n",
       "    </tr>\n",
       "    <tr>\n",
       "      <th>4</th>\n",
       "      <td>outputs/deberta_0/checkpoint-331</td>\n",
       "      <td>0.756469</td>\n",
       "      <td>0.755448</td>\n",
       "      <td>{'overwrite_output_dir': True, 'num_train_epoc...</td>\n",
       "    </tr>\n",
       "    <tr>\n",
       "      <th>...</th>\n",
       "      <td>...</td>\n",
       "      <td>...</td>\n",
       "      <td>...</td>\n",
       "      <td>...</td>\n",
       "    </tr>\n",
       "    <tr>\n",
       "      <th>5</th>\n",
       "      <td>outputs/deberta_26/checkpoint-80-epoch-4</td>\n",
       "      <td>0.770167</td>\n",
       "      <td>0.773608</td>\n",
       "      <td>{'overwrite_output_dir': True, 'num_train_epoc...</td>\n",
       "    </tr>\n",
       "    <tr>\n",
       "      <th>6</th>\n",
       "      <td>outputs/deberta_26/checkpoint-200-epoch-10</td>\n",
       "      <td>0.788432</td>\n",
       "      <td>0.771186</td>\n",
       "      <td>{'overwrite_output_dir': True, 'num_train_epoc...</td>\n",
       "    </tr>\n",
       "    <tr>\n",
       "      <th>7</th>\n",
       "      <td>outputs/deberta_26/checkpoint-180-epoch-9</td>\n",
       "      <td>0.786910</td>\n",
       "      <td>0.755448</td>\n",
       "      <td>{'overwrite_output_dir': True, 'num_train_epoc...</td>\n",
       "    </tr>\n",
       "    <tr>\n",
       "      <th>8</th>\n",
       "      <td>outputs/deberta_26/checkpoint-20-epoch-1</td>\n",
       "      <td>0.657534</td>\n",
       "      <td>0.690073</td>\n",
       "      <td>{'overwrite_output_dir': True, 'num_train_epoc...</td>\n",
       "    </tr>\n",
       "    <tr>\n",
       "      <th>9</th>\n",
       "      <td>outputs/deberta_26/checkpoint-40-epoch-2</td>\n",
       "      <td>0.776256</td>\n",
       "      <td>0.773608</td>\n",
       "      <td>{'overwrite_output_dir': True, 'num_train_epoc...</td>\n",
       "    </tr>\n",
       "  </tbody>\n",
       "</table>\n",
       "<p>297 rows × 4 columns</p>\n",
       "</div>"
      ],
      "text/plain": [
       "                                    checkpoint  valid_acc  test_acc  \\\n",
       "0     outputs/deberta_0/checkpoint-246-epoch-3   0.779300  0.778450   \n",
       "1     outputs/deberta_0/checkpoint-656-epoch-8   0.768645  0.750605   \n",
       "2    outputs/deberta_0/checkpoint-820-epoch-10   0.786910  0.755448   \n",
       "3     outputs/deberta_0/checkpoint-410-epoch-5   0.779300  0.766344   \n",
       "4             outputs/deberta_0/checkpoint-331   0.756469  0.755448   \n",
       "..                                         ...        ...       ...   \n",
       "5     outputs/deberta_26/checkpoint-80-epoch-4   0.770167  0.773608   \n",
       "6   outputs/deberta_26/checkpoint-200-epoch-10   0.788432  0.771186   \n",
       "7    outputs/deberta_26/checkpoint-180-epoch-9   0.786910  0.755448   \n",
       "8     outputs/deberta_26/checkpoint-20-epoch-1   0.657534  0.690073   \n",
       "9     outputs/deberta_26/checkpoint-40-epoch-2   0.776256  0.773608   \n",
       "\n",
       "                                               config  \n",
       "0   {'overwrite_output_dir': True, 'num_train_epoc...  \n",
       "1   {'overwrite_output_dir': True, 'num_train_epoc...  \n",
       "2   {'overwrite_output_dir': True, 'num_train_epoc...  \n",
       "3   {'overwrite_output_dir': True, 'num_train_epoc...  \n",
       "4   {'overwrite_output_dir': True, 'num_train_epoc...  \n",
       "..                                                ...  \n",
       "5   {'overwrite_output_dir': True, 'num_train_epoc...  \n",
       "6   {'overwrite_output_dir': True, 'num_train_epoc...  \n",
       "7   {'overwrite_output_dir': True, 'num_train_epoc...  \n",
       "8   {'overwrite_output_dir': True, 'num_train_epoc...  \n",
       "9   {'overwrite_output_dir': True, 'num_train_epoc...  \n",
       "\n",
       "[297 rows x 4 columns]"
      ]
     },
     "execution_count": 5,
     "metadata": {},
     "output_type": "execute_result"
    }
   ],
   "source": [
    "import pandas as pd\n",
    "\n",
    "df = []\n",
    "for config, num in zip(configurations, range(len(configurations))):\n",
    "    df += [pd.read_json(\"outputs/deberta_\" + str(num) + \"/eval-results.jsonl\")]\n",
    "    \n",
    "df = pd.concat(df)\n",
    "df"
   ]
  },
  {
   "cell_type": "code",
   "execution_count": null,
   "id": "7a9eb4f2",
   "metadata": {},
   "outputs": [],
   "source": [
    "df.to_json('outputs/deberta_eval_results.csv')"
   ]
  },
  {
   "cell_type": "code",
   "execution_count": 5,
   "id": "19d704ca",
   "metadata": {},
   "outputs": [
    {
     "data": {
      "text/plain": [
       "27"
      ]
     },
     "execution_count": 5,
     "metadata": {},
     "output_type": "execute_result"
    }
   ],
   "source": [
    "len(configurations)"
   ]
  },
  {
   "cell_type": "code",
   "execution_count": null,
   "id": "d010cbb6",
   "metadata": {},
   "outputs": [],
   "source": [
    "print('finished!')"
   ]
  },
  {
   "cell_type": "code",
   "execution_count": null,
   "id": "51f88c1f",
   "metadata": {},
   "outputs": [],
   "source": [
    "df[df['checkpoint'].str.contains('epoch')].sort_values('valid_acc', ascending=False)"
   ]
  },
  {
   "cell_type": "code",
   "execution_count": 6,
   "id": "b3ce549d",
   "metadata": {},
   "outputs": [
    {
     "name": "stdout",
     "output_type": "stream",
     "text": [
      "0.8066971081000001 {'overwrite_output_dir': True, 'num_train_epochs': 10, 'fp16': False, 'train_batch_size': 8, 'gradient_accumulation_steps': 4, 'evaluate_during_training': True, 'max_seq_length': 64, 'learning_rate': 4e-05, 'early_stopping_consider_epochs': True, 'early_stopping_delta': 0.01, 'early_stopping_metric': 'acc', 'early_stopping_metric_minimize': False, 'early_stopping_patience': 3, 'evaluate_during_training_steps': 331, 'output_dir': 'outputs/', 'warmup_ratio': 0.02, 'save_steps': 2000, 'manual_seed': 12345}\n",
      "0.797564688 {'overwrite_output_dir': True, 'num_train_epochs': 10, 'fp16': False, 'train_batch_size': 16, 'gradient_accumulation_steps': 4, 'evaluate_during_training': True, 'max_seq_length': 64, 'learning_rate': 4e-05, 'early_stopping_consider_epochs': True, 'early_stopping_delta': 0.01, 'early_stopping_metric': 'acc', 'early_stopping_metric_minimize': False, 'early_stopping_patience': 3, 'evaluate_during_training_steps': 331, 'output_dir': 'outputs/', 'warmup_ratio': 0.1, 'save_steps': 2000, 'manual_seed': 12345}\n",
      "0.7945205479 {'overwrite_output_dir': True, 'num_train_epochs': 10, 'fp16': False, 'train_batch_size': 8, 'gradient_accumulation_steps': 4, 'evaluate_during_training': True, 'max_seq_length': 64, 'learning_rate': 4e-05, 'early_stopping_consider_epochs': True, 'early_stopping_delta': 0.01, 'early_stopping_metric': 'acc', 'early_stopping_metric_minimize': False, 'early_stopping_patience': 3, 'evaluate_during_training_steps': 331, 'output_dir': 'outputs/', 'warmup_ratio': 0.06, 'save_steps': 2000, 'manual_seed': 12345}\n",
      "0.7929984779 {'overwrite_output_dir': True, 'num_train_epochs': 10, 'fp16': False, 'train_batch_size': 8, 'gradient_accumulation_steps': 4, 'evaluate_during_training': True, 'max_seq_length': 64, 'learning_rate': 1e-05, 'early_stopping_consider_epochs': True, 'early_stopping_delta': 0.01, 'early_stopping_metric': 'acc', 'early_stopping_metric_minimize': False, 'early_stopping_patience': 3, 'evaluate_during_training_steps': 331, 'output_dir': 'outputs/', 'warmup_ratio': 0.1, 'save_steps': 2000, 'manual_seed': 12345}\n",
      "0.7914764079000001 {'overwrite_output_dir': True, 'num_train_epochs': 10, 'fp16': False, 'train_batch_size': 16, 'gradient_accumulation_steps': 4, 'evaluate_during_training': True, 'max_seq_length': 64, 'learning_rate': 4e-05, 'early_stopping_consider_epochs': True, 'early_stopping_delta': 0.01, 'early_stopping_metric': 'acc', 'early_stopping_metric_minimize': False, 'early_stopping_patience': 3, 'evaluate_during_training_steps': 331, 'output_dir': 'outputs/', 'warmup_ratio': 0.1, 'save_steps': 2000, 'manual_seed': 12345}\n"
     ]
    }
   ],
   "source": [
    "for _, i in [i for i in df[df['checkpoint'].str.contains('epoch')].sort_values('valid_acc', ascending=False).iterrows()][:5]:\n",
    "    print(i['valid_acc'], i['config'])"
   ]
  }
 ],
 "metadata": {
  "kernelspec": {
   "display_name": "Python 3",
   "language": "python",
   "name": "python3"
  },
  "language_info": {
   "codemirror_mode": {
    "name": "ipython",
    "version": 3
   },
   "file_extension": ".py",
   "mimetype": "text/x-python",
   "name": "python",
   "nbconvert_exporter": "python",
   "pygments_lexer": "ipython3",
   "version": "3.6.9"
  }
 },
 "nbformat": 4,
 "nbformat_minor": 5
}
